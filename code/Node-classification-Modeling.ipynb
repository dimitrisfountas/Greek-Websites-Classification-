{
 "cells": [
  {
   "cell_type": "markdown",
   "metadata": {},
   "source": [
    "# Data Challenge: Node Classification for Greek websites\n",
    "## Part: Modeling\n",
    "\n",
    "<br />\n",
    "<div style=\"text-align: left\"> <b> Date: </b> June 2024 </div>\n",
    "\n",
    "---\n"
   ]
  },
  {
   "cell_type": "markdown",
   "metadata": {},
   "source": [
    "## Packages"
   ]
  },
  {
   "cell_type": "code",
   "execution_count": 1,
   "metadata": {
    "_cell_guid": "b1076dfc-b9ad-4769-8c92-a6c4dae69d19",
    "_uuid": "8f2839f25d086af736a60e9eeb907d3b93b6e0e5",
    "execution": {
     "iopub.execute_input": "2024-06-07T17:57:09.305205Z",
     "iopub.status.busy": "2024-06-07T17:57:09.304814Z",
     "iopub.status.idle": "2024-06-07T17:57:28.300964Z",
     "shell.execute_reply": "2024-06-07T17:57:28.299611Z",
     "shell.execute_reply.started": "2024-06-07T17:57:09.305172Z"
    }
   },
   "outputs": [
    {
     "name": "stdout",
     "output_type": "stream",
     "text": [
      "Collecting torch-geometric\n",
      "  Downloading torch_geometric-2.5.3-py3-none-any.whl.metadata (64 kB)\n",
      "\u001b[2K     \u001b[90m━━━━━━━━━━━━━━━━━━━━━━━━━━━━━━━━━━━━━━━━\u001b[0m \u001b[32m64.2/64.2 kB\u001b[0m \u001b[31m2.3 MB/s\u001b[0m eta \u001b[36m0:00:00\u001b[0m\n",
      "\u001b[?25hRequirement already satisfied: tqdm in /opt/conda/lib/python3.10/site-packages (from torch-geometric) (4.66.4)\n",
      "Requirement already satisfied: numpy in /opt/conda/lib/python3.10/site-packages (from torch-geometric) (1.26.4)\n",
      "Requirement already satisfied: scipy in /opt/conda/lib/python3.10/site-packages (from torch-geometric) (1.11.4)\n",
      "Requirement already satisfied: fsspec in /opt/conda/lib/python3.10/site-packages (from torch-geometric) (2024.3.1)\n",
      "Requirement already satisfied: jinja2 in /opt/conda/lib/python3.10/site-packages (from torch-geometric) (3.1.2)\n",
      "Requirement already satisfied: aiohttp in /opt/conda/lib/python3.10/site-packages (from torch-geometric) (3.9.1)\n",
      "Requirement already satisfied: requests in /opt/conda/lib/python3.10/site-packages (from torch-geometric) (2.32.3)\n",
      "Requirement already satisfied: pyparsing in /opt/conda/lib/python3.10/site-packages (from torch-geometric) (3.1.1)\n",
      "Requirement already satisfied: scikit-learn in /opt/conda/lib/python3.10/site-packages (from torch-geometric) (1.2.2)\n",
      "Requirement already satisfied: psutil>=5.8.0 in /opt/conda/lib/python3.10/site-packages (from torch-geometric) (5.9.3)\n",
      "Requirement already satisfied: attrs>=17.3.0 in /opt/conda/lib/python3.10/site-packages (from aiohttp->torch-geometric) (23.2.0)\n",
      "Requirement already satisfied: multidict<7.0,>=4.5 in /opt/conda/lib/python3.10/site-packages (from aiohttp->torch-geometric) (6.0.4)\n",
      "Requirement already satisfied: yarl<2.0,>=1.0 in /opt/conda/lib/python3.10/site-packages (from aiohttp->torch-geometric) (1.9.3)\n",
      "Requirement already satisfied: frozenlist>=1.1.1 in /opt/conda/lib/python3.10/site-packages (from aiohttp->torch-geometric) (1.4.1)\n",
      "Requirement already satisfied: aiosignal>=1.1.2 in /opt/conda/lib/python3.10/site-packages (from aiohttp->torch-geometric) (1.3.1)\n",
      "Requirement already satisfied: async-timeout<5.0,>=4.0 in /opt/conda/lib/python3.10/site-packages (from aiohttp->torch-geometric) (4.0.3)\n",
      "Requirement already satisfied: MarkupSafe>=2.0 in /opt/conda/lib/python3.10/site-packages (from jinja2->torch-geometric) (2.1.3)\n",
      "Requirement already satisfied: charset-normalizer<4,>=2 in /opt/conda/lib/python3.10/site-packages (from requests->torch-geometric) (3.3.2)\n",
      "Requirement already satisfied: idna<4,>=2.5 in /opt/conda/lib/python3.10/site-packages (from requests->torch-geometric) (3.6)\n",
      "Requirement already satisfied: urllib3<3,>=1.21.1 in /opt/conda/lib/python3.10/site-packages (from requests->torch-geometric) (1.26.18)\n",
      "Requirement already satisfied: certifi>=2017.4.17 in /opt/conda/lib/python3.10/site-packages (from requests->torch-geometric) (2024.2.2)\n",
      "Requirement already satisfied: joblib>=1.1.1 in /opt/conda/lib/python3.10/site-packages (from scikit-learn->torch-geometric) (1.4.2)\n",
      "Requirement already satisfied: threadpoolctl>=2.0.0 in /opt/conda/lib/python3.10/site-packages (from scikit-learn->torch-geometric) (3.2.0)\n",
      "Downloading torch_geometric-2.5.3-py3-none-any.whl (1.1 MB)\n",
      "\u001b[2K   \u001b[90m━━━━━━━━━━━━━━━━━━━━━━━━━━━━━━━━━━━━━━━━\u001b[0m \u001b[32m1.1/1.1 MB\u001b[0m \u001b[31m9.3 MB/s\u001b[0m eta \u001b[36m0:00:00\u001b[0m:00:01\u001b[0m00:01\u001b[0m\n",
      "\u001b[?25hInstalling collected packages: torch-geometric\n",
      "Successfully installed torch-geometric-2.5.3\n"
     ]
    }
   ],
   "source": [
    "!pip install torch-geometric"
   ]
  },
  {
   "cell_type": "code",
   "execution_count": 2,
   "metadata": {
    "execution": {
     "iopub.execute_input": "2024-06-07T17:57:43.094511Z",
     "iopub.status.busy": "2024-06-07T17:57:43.094085Z",
     "iopub.status.idle": "2024-06-07T17:58:21.430157Z",
     "shell.execute_reply": "2024-06-07T17:58:21.429039Z",
     "shell.execute_reply.started": "2024-06-07T17:57:43.094470Z"
    }
   },
   "outputs": [
    {
     "name": "stderr",
     "output_type": "stream",
     "text": [
      "2024-06-07 17:58:05.704045: E external/local_xla/xla/stream_executor/cuda/cuda_dnn.cc:9261] Unable to register cuDNN factory: Attempting to register factory for plugin cuDNN when one has already been registered\n",
      "2024-06-07 17:58:05.704234: E external/local_xla/xla/stream_executor/cuda/cuda_fft.cc:607] Unable to register cuFFT factory: Attempting to register factory for plugin cuFFT when one has already been registered\n",
      "2024-06-07 17:58:05.897833: E external/local_xla/xla/stream_executor/cuda/cuda_blas.cc:1515] Unable to register cuBLAS factory: Attempting to register factory for plugin cuBLAS when one has already been registered\n"
     ]
    }
   ],
   "source": [
    "import os\n",
    "import re\n",
    "import csv\n",
    "import optuna\n",
    "import networkx as nx\n",
    "\n",
    "from random import choice\n",
    "from gensim.models import Word2Vec\n",
    "\n",
    "import pickle\n",
    "import spacy\n",
    "\n",
    "import unicodedata\n",
    "import zipfile\n",
    "import numpy as np\n",
    "import pandas as pd\n",
    "\n",
    "from tqdm import tqdm\n",
    "from io import BytesIO\n",
    "\n",
    "from spacy.tokenizer import Tokenizer\n",
    "\n",
    "from sklearn.feature_extraction.text import CountVectorizer\n",
    "from sklearn.model_selection import train_test_split\n",
    "from sklearn.linear_model import LogisticRegression\n",
    "from sklearn.preprocessing import StandardScaler\n",
    "from sklearn.metrics import accuracy_score, confusion_matrix, classification_report\n",
    "\n",
    "import xgboost as xgb\n",
    "\n",
    "import keras_tuner as kt\n",
    "import tensorflow as tf\n",
    "from tensorflow.keras.utils import to_categorical\n",
    "from tensorflow.keras.models import Sequential\n",
    "from tensorflow.keras.layers import Dense, Dropout, Layer, Input, Embedding, Bidirectional, LSTM, GRU, SimpleRNN\n",
    "from tensorflow.keras.optimizers import Adam\n",
    "from tensorflow.keras.callbacks import EarlyStopping\n",
    "from tensorflow.keras.initializers import Constant\n",
    "\n",
    "import torch\n",
    "\n",
    "import torch.nn as nn\n",
    "import torch.optim as optim\n",
    "import torch.nn.functional as F\n",
    "from torch_geometric.data import Data\n",
    "from torch_geometric.nn import GCNConv\n",
    "\n",
    "from transformers import AutoTokenizer, AutoModel\n",
    "\n",
    "from sklearn.decomposition import TruncatedSVD\n",
    "\n",
    "import community as community_louvain\n",
    "import matplotlib.cm as cm\n",
    "\n",
    "import xgboost as xgb\n",
    "\n",
    "from sklearn.metrics import confusion_matrix, ConfusionMatrixDisplay\n",
    "from sklearn.metrics import classification_report\n",
    "from sklearn.metrics import precision_score, recall_score, f1_score, average_precision_score\n",
    "from sklearn.metrics import precision_recall_curve, auc"
   ]
  },
  {
   "cell_type": "markdown",
   "metadata": {},
   "source": [
    "## Read Files\n",
    "- First, we read the the in scope train and test domains that are the websites strings"
   ]
  },
  {
   "cell_type": "code",
   "execution_count": 3,
   "metadata": {
    "execution": {
     "iopub.execute_input": "2024-06-07T17:59:33.641769Z",
     "iopub.status.busy": "2024-06-07T17:59:33.640851Z",
     "iopub.status.idle": "2024-06-07T17:59:33.689232Z",
     "shell.execute_reply": "2024-06-07T17:59:33.688099Z",
     "shell.execute_reply.started": "2024-06-07T17:59:33.641733Z"
    }
   },
   "outputs": [
    {
     "name": "stderr",
     "output_type": "stream",
     "text": [
      "1812it [00:00, 144666.96it/s]\n",
      "605it [00:00, 118113.66it/s]\n"
     ]
    }
   ],
   "source": [
    "data_path = '/kaggle/input/domain-data-v2/'\n",
    "\n",
    "# Read training data\n",
    "train_domains = list()\n",
    "y_train = list()\n",
    "with open(data_path+\"train.txt\", 'r') as f:\n",
    "    for line in tqdm(f):\n",
    "        l = line.split(',')\n",
    "        train_domains.append(l[0])\n",
    "        y_train.append(l[1][:-1]) #int()\n",
    "\n",
    "# Read test data\n",
    "test_domains = list()\n",
    "with open(data_path+\"test.txt\", 'r') as f:\n",
    "    for line in tqdm(f):\n",
    "        l = line.split(',')\n",
    "        test_domains.append(l[0]) #int()"
   ]
  },
  {
   "cell_type": "markdown",
   "metadata": {},
   "source": [
    "## Text embeddings\n",
    "* Load the extracted text embeddings that produced in previous step using the pretrained sentence transformer\n",
    "* These vectors of size 768 represent the textual information (from raw html texts) of the domains in scope. They may contain valuable information about the content of each domain and can be used as input feature vectors to ML models for classification."
   ]
  },
  {
   "cell_type": "code",
   "execution_count": 4,
   "metadata": {
    "execution": {
     "iopub.execute_input": "2024-06-07T17:59:40.179064Z",
     "iopub.status.busy": "2024-06-07T17:59:40.178661Z",
     "iopub.status.idle": "2024-06-07T17:59:40.373834Z",
     "shell.execute_reply": "2024-06-07T17:59:40.372552Z",
     "shell.execute_reply.started": "2024-06-07T17:59:40.179024Z"
    }
   },
   "outputs": [],
   "source": [
    "# sentence transformer - load the embeddings as they obtained in the preprocessing and data preparation step\n",
    "with open(data_path+'train_embed_sent.pkl', 'rb') as f:\n",
    "    embeddings_train = pickle.load(f)\n",
    "    \n",
    "with open(data_path+'test_embed_sent.pkl', 'rb') as f:\n",
    "    embeddings_test = pickle.load(f)"
   ]
  },
  {
   "cell_type": "code",
   "execution_count": 5,
   "metadata": {
    "execution": {
     "iopub.execute_input": "2024-06-07T17:59:40.835897Z",
     "iopub.status.busy": "2024-06-07T17:59:40.835449Z",
     "iopub.status.idle": "2024-06-07T17:59:40.844370Z",
     "shell.execute_reply": "2024-06-07T17:59:40.843050Z",
     "shell.execute_reply.started": "2024-06-07T17:59:40.835863Z"
    }
   },
   "outputs": [],
   "source": [
    "# store the embeddings as X data\n",
    "X_train_all = embeddings_train.copy()\n",
    "X_test = embeddings_test.copy()"
   ]
  },
  {
   "cell_type": "markdown",
   "metadata": {},
   "source": [
    "## Train-Val Splitting\n",
    "* Split the train data further in order to create a development dataset for validation purposes and performance monitoring\n",
    "* Use the same random state for reproducability purposes across the document"
   ]
  },
  {
   "cell_type": "code",
   "execution_count": 10,
   "metadata": {
    "execution": {
     "iopub.execute_input": "2024-06-07T18:00:48.622860Z",
     "iopub.status.busy": "2024-06-07T18:00:48.622333Z",
     "iopub.status.idle": "2024-06-07T18:00:48.639130Z",
     "shell.execute_reply": "2024-06-07T18:00:48.637890Z",
     "shell.execute_reply.started": "2024-06-07T18:00:48.622817Z"
    }
   },
   "outputs": [],
   "source": [
    "X_train, X_val, Y_train, Y_val = train_test_split(X_train_all, y_train, test_size=0.1, stratify=y_train, random_state=66)\n",
    "\n",
    "# Create one hot encondings for the target variable NNs to work\n",
    "Y_train_1hot = to_categorical(Y_train, num_classes=9)\n",
    "Y_val_1hot = to_categorical(Y_val, num_classes=9)"
   ]
  },
  {
   "cell_type": "markdown",
   "metadata": {},
   "source": [
    "## Singular Value Decomposition\n",
    "* Compress the data to a lower-dimensional space without significant loss of variance or information using Truncated SVD.\n",
    "* We make trials using the full and the compressed embeddings to check if there is difference in the performance."
   ]
  },
  {
   "cell_type": "code",
   "execution_count": 11,
   "metadata": {
    "execution": {
     "iopub.execute_input": "2024-06-07T18:00:54.978598Z",
     "iopub.status.busy": "2024-06-07T18:00:54.977774Z",
     "iopub.status.idle": "2024-06-07T18:00:56.827906Z",
     "shell.execute_reply": "2024-06-07T18:00:56.826269Z",
     "shell.execute_reply.started": "2024-06-07T18:00:54.978559Z"
    }
   },
   "outputs": [
    {
     "name": "stdout",
     "output_type": "stream",
     "text": [
      "The explained variance is 99.39 %\n"
     ]
    }
   ],
   "source": [
    "svd = TruncatedSVD(n_components=200, random_state=42)\n",
    "X_red_train = svd.fit_transform(X_train)\n",
    "X_red_val = svd.transform(X_val)\n",
    "\n",
    "# Calculate cumulative explained variance\n",
    "expl_var = svd.explained_variance_ratio_\n",
    "print(f'The explained variance is {round(expl_var.sum()*100,2)} %')"
   ]
  },
  {
   "cell_type": "markdown",
   "metadata": {},
   "source": [
    "## Logistic Regression as Baseline model"
   ]
  },
  {
   "cell_type": "markdown",
   "metadata": {},
   "source": [
    "### Standard scaling\n",
    "* Perform data scaling and apply a logistic regression model as a baseline.\n",
    "* Logistic regression benefits from data scaling because it improves the convergence speed and stability of the model."
   ]
  },
  {
   "cell_type": "code",
   "execution_count": 12,
   "metadata": {
    "execution": {
     "iopub.execute_input": "2024-06-07T18:01:01.810662Z",
     "iopub.status.busy": "2024-06-07T18:01:01.809662Z",
     "iopub.status.idle": "2024-06-07T18:01:01.834287Z",
     "shell.execute_reply": "2024-06-07T18:01:01.833037Z",
     "shell.execute_reply.started": "2024-06-07T18:01:01.810594Z"
    }
   },
   "outputs": [],
   "source": [
    "# Scale the features\n",
    "scaler = StandardScaler()\n",
    "X_scaled_train = scaler.fit_transform(X_train)\n",
    "X_scaled_val = scaler.transform(X_val)"
   ]
  },
  {
   "cell_type": "code",
   "execution_count": 13,
   "metadata": {
    "execution": {
     "iopub.execute_input": "2024-06-07T18:01:02.879017Z",
     "iopub.status.busy": "2024-06-07T18:01:02.878064Z",
     "iopub.status.idle": "2024-06-07T18:01:12.475801Z",
     "shell.execute_reply": "2024-06-07T18:01:12.474285Z",
     "shell.execute_reply.started": "2024-06-07T18:01:02.878978Z"
    }
   },
   "outputs": [
    {
     "name": "stdout",
     "output_type": "stream",
     "text": [
      "\n",
      "===========Confusion Matrix===========\n",
      "\n",
      "[[ 6  0  1  1  0  0  0  0  0]\n",
      " [ 0  9  1  2  0  1  0  0  1]\n",
      " [ 1  1 13  6  0  2  1  1  2]\n",
      " [ 1  1  1 40  0  6  0  2  4]\n",
      " [ 0  0  5  1  5  0  0  0  0]\n",
      " [ 0  0  2  8  2 13  0  1  2]\n",
      " [ 0  0  2  2  0  1  5  0  0]\n",
      " [ 0  0  1  3  0  1  0  5  0]\n",
      " [ 0  1  1  6  0  1  0  0 10]]\n",
      "\n",
      "===========Classification Report===========\n",
      "\n",
      "              precision    recall  f1-score   support\n",
      "\n",
      "           0       0.75      0.75      0.75         8\n",
      "           1       0.75      0.64      0.69        14\n",
      "           2       0.48      0.48      0.48        27\n",
      "           3       0.58      0.73      0.65        55\n",
      "           4       0.71      0.45      0.56        11\n",
      "           5       0.52      0.46      0.49        28\n",
      "           6       0.83      0.50      0.62        10\n",
      "           7       0.56      0.50      0.53        10\n",
      "           8       0.53      0.53      0.53        19\n",
      "\n",
      "    accuracy                           0.58       182\n",
      "   macro avg       0.63      0.56      0.59       182\n",
      "weighted avg       0.59      0.58      0.58       182\n",
      "\n"
     ]
    }
   ],
   "source": [
    "# Initialize the logistic regression model\n",
    "model_lr = LogisticRegression(max_iter=2000)\n",
    "\n",
    "# Train the model\n",
    "model_lr.fit(X_scaled_train, np.array(Y_train))\n",
    "\n",
    "# Make predictions on the test set\n",
    "y_val_pred = model_lr.predict(X_scaled_val)\n",
    "\n",
    "print('\\n===========Confusion Matrix===========\\n')\n",
    "print(confusion_matrix(Y_val, y_val_pred))\n",
    "\n",
    "print('\\n===========Classification Report===========\\n')\n",
    "print(classification_report(Y_val, y_val_pred))"
   ]
  },
  {
   "cell_type": "markdown",
   "metadata": {},
   "source": [
    "* The classification report shows a baseline accuracy of 58%, with varying performance across different classes. \n",
    "* It is observed that class 0 and class 1 have better performance, with F1-scores of 75% and 69%, respectively. \n",
    "* In contrast, other classes, such as class 2 and class 5, show lower performance with F1-scores of 48% and 49%.\n",
    "* We will try to improve these results using simple Multi-Layer Perceptrons (MLPs)."
   ]
  },
  {
   "cell_type": "markdown",
   "metadata": {},
   "source": [
    "## Using MLPs"
   ]
  },
  {
   "cell_type": "code",
   "execution_count": 14,
   "metadata": {
    "execution": {
     "iopub.execute_input": "2024-06-07T18:01:58.526587Z",
     "iopub.status.busy": "2024-06-07T18:01:58.525414Z",
     "iopub.status.idle": "2024-06-07T18:01:58.532686Z",
     "shell.execute_reply": "2024-06-07T18:01:58.531253Z",
     "shell.execute_reply.started": "2024-06-07T18:01:58.526535Z"
    }
   },
   "outputs": [],
   "source": [
    "def clean_up(model):\n",
    "    \"\"\"\n",
    "    Cleans the session to refresh memory.\n",
    "    \"\"\"\n",
    "    K.clear_session()\n",
    "    del model\n",
    "    gc.collect()"
   ]
  },
  {
   "cell_type": "markdown",
   "metadata": {},
   "source": [
    "### Build an MLP model using Hyperparameter Tuner Optuna\n",
    "* We are using Optuna to efficiently tune hyperparameters.\n",
    "* This algorithm automatically explores different hyperparameter configurations to find the optimal set that enhances our model's performance.\n",
    "* Parameters to optimize:\n",
    "    * number of hidden layers\n",
    "    * number of units per layer\n",
    "    * dropout rate per layer\n",
    "    * learning rate\n",
    "    * batch size"
   ]
  },
  {
   "cell_type": "code",
   "execution_count": 15,
   "metadata": {
    "execution": {
     "iopub.execute_input": "2024-06-07T18:02:04.513274Z",
     "iopub.status.busy": "2024-06-07T18:02:04.512856Z",
     "iopub.status.idle": "2024-06-07T18:02:04.524994Z",
     "shell.execute_reply": "2024-06-07T18:02:04.523694Z",
     "shell.execute_reply.started": "2024-06-07T18:02:04.513243Z"
    }
   },
   "outputs": [],
   "source": [
    "def build_MLP_model_tuning(trial):\n",
    "    \"\"\"\n",
    "    Tunes a Multilayer Perceptron (MLP) model's architecture and hyperparameters using Optuna's trial object.\n",
    "    \"\"\"\n",
    "    model = Sequential()\n",
    "\n",
    "    layer_index = 0\n",
    "    for i in range(trial.suggest_int('num_layers', 1, 4)):\n",
    "        if layer_index == 0:\n",
    "            units = trial.suggest_int(f'Hidden_units_{i}', 256, 1024, step=128)\n",
    "            model.add(Dense(units=units, activation='relu', kernel_initializer='glorot_uniform', input_dim=X_train.shape[1])) #input included\n",
    "            model.add(Dropout(trial.suggest_float(f'Dropout_layer_{i}', 0.1, 0.5, step=0.1)))\n",
    "        else:\n",
    "            units = trial.suggest_int(f'Hidden_units_{i}', 256, 1024, step=128)\n",
    "            model.add(Dense(units=units, activation='relu', kernel_initializer='glorot_uniform'))\n",
    "            model.add(Dropout(trial.suggest_float(f'Dropout_layer_{i}', 0.1, 0.5, step=0.1)))\n",
    "\n",
    "        layer_index += 1\n",
    "\n",
    "    # Add last layer that produces the logits\n",
    "    model.add(Dense(units=9, activation='softmax', kernel_initializer='glorot_uniform', name='Output'))\n",
    "    # Tune the learning rate for the optimizer\n",
    "    learning_rate = trial.suggest_categorical('learning_rate', [1e-2, 1e-3, 1e-4])\n",
    "    # Compile the model using categorical cross entropy loss (multiclass classification)\n",
    "    model.compile(loss='categorical_crossentropy', optimizer=Adam(learning_rate=learning_rate), metrics=['categorical_accuracy'])\n",
    "\n",
    "    return model"
   ]
  },
  {
   "cell_type": "markdown",
   "metadata": {},
   "source": [
    "#### Objective to minimize\n",
    "*  The objective function represents the validation loss metric that the optimization algorithm aims to minimize during the tuning process, reflecting the performance of the model on a validation set.\n",
    "* We add early stopping to stop the training to avoid overfitting."
   ]
  },
  {
   "cell_type": "code",
   "execution_count": 16,
   "metadata": {
    "execution": {
     "iopub.execute_input": "2024-06-07T18:02:07.815716Z",
     "iopub.status.busy": "2024-06-07T18:02:07.815143Z",
     "iopub.status.idle": "2024-06-07T18:02:07.825251Z",
     "shell.execute_reply": "2024-06-07T18:02:07.823954Z",
     "shell.execute_reply.started": "2024-06-07T18:02:07.815673Z"
    }
   },
   "outputs": [],
   "source": [
    "def objective(trial):\n",
    "    \"\"\"\n",
    "    Evaluates the model's performance by optimizing validation loss.\n",
    "    \"\"\"\n",
    "\n",
    "    # Sample batch size\n",
    "    batch_size = trial.suggest_categorical('batch_size', [32, 64, 128])\n",
    "\n",
    "    # Wrap build_MLP_model_tuning function with Optuna's KerasPruningCallback\n",
    "    model = build_MLP_model_tuning(trial)\n",
    "\n",
    "    # Add early stopping to avoid overfitting and also save execution time\n",
    "    early_stopping = EarlyStopping(monitor='val_loss', patience=5)\n",
    "\n",
    "    # Train the model\n",
    "    history = model.fit(\n",
    "        X_train,\n",
    "        Y_train_1hot,\n",
    "        #validation_split=0.1,\n",
    "        validation_data=(X_val, Y_val_1hot),\n",
    "        epochs=100,\n",
    "        batch_size=batch_size,\n",
    "        callbacks=[early_stopping],\n",
    "        verbose=0\n",
    "    )\n",
    "\n",
    "    # Return the validation accuracy as the objective value to minimize\n",
    "    return history.history['val_loss'][-1]"
   ]
  },
  {
   "cell_type": "markdown",
   "metadata": {},
   "source": [
    "#### Optuna trials - Results\n",
    "* We ran 50 combinations of the parameters to get the optimal."
   ]
  },
  {
   "cell_type": "code",
   "execution_count": 17,
   "metadata": {
    "execution": {
     "iopub.execute_input": "2024-06-07T18:02:09.999818Z",
     "iopub.status.busy": "2024-06-07T18:02:09.999350Z",
     "iopub.status.idle": "2024-06-07T18:12:00.791998Z",
     "shell.execute_reply": "2024-06-07T18:12:00.790778Z",
     "shell.execute_reply.started": "2024-06-07T18:02:09.999784Z"
    }
   },
   "outputs": [
    {
     "name": "stderr",
     "output_type": "stream",
     "text": [
      "[I 2024-06-07 18:02:10,003] A new study created in memory with name: no-name-1309dca8-60ff-4a2b-a0e7-fc3599bd48ab\n",
      "/opt/conda/lib/python3.10/site-packages/keras/src/layers/core/dense.py:87: UserWarning: Do not pass an `input_shape`/`input_dim` argument to a layer. When using Sequential models, prefer using an `Input(shape)` object as the first layer in the model instead.\n",
      "  super().__init__(activity_regularizer=activity_regularizer, **kwargs)\n",
      "[I 2024-06-07 18:02:17,250] Trial 0 finished with value: 1.1121158599853516 and parameters: {'batch_size': 128, 'num_layers': 3, 'Hidden_units_0': 640, 'Dropout_layer_0': 0.5, 'Hidden_units_1': 256, 'Dropout_layer_1': 0.4, 'Hidden_units_2': 1024, 'Dropout_layer_2': 0.1, 'learning_rate': 0.001}. Best is trial 0 with value: 1.1121158599853516.\n",
      "[I 2024-06-07 18:02:28,674] Trial 1 finished with value: 1.0707533359527588 and parameters: {'batch_size': 128, 'num_layers': 4, 'Hidden_units_0': 768, 'Dropout_layer_0': 0.1, 'Hidden_units_1': 896, 'Dropout_layer_1': 0.2, 'Hidden_units_2': 640, 'Dropout_layer_2': 0.1, 'Hidden_units_3': 384, 'Dropout_layer_3': 0.1, 'learning_rate': 0.0001}. Best is trial 1 with value: 1.0707533359527588.\n",
      "[I 2024-06-07 18:02:33,689] Trial 2 finished with value: 1.1518208980560303 and parameters: {'batch_size': 64, 'num_layers': 1, 'Hidden_units_0': 640, 'Dropout_layer_0': 0.2, 'learning_rate': 0.001}. Best is trial 1 with value: 1.0707533359527588.\n",
      "[I 2024-06-07 18:02:43,184] Trial 3 finished with value: 1.0641027688980103 and parameters: {'batch_size': 64, 'num_layers': 1, 'Hidden_units_0': 512, 'Dropout_layer_0': 0.4, 'learning_rate': 0.0001}. Best is trial 3 with value: 1.0641027688980103.\n",
      "[I 2024-06-07 18:02:49,465] Trial 4 finished with value: 1.2357861995697021 and parameters: {'batch_size': 128, 'num_layers': 4, 'Hidden_units_0': 256, 'Dropout_layer_0': 0.2, 'Hidden_units_1': 640, 'Dropout_layer_1': 0.5, 'Hidden_units_2': 256, 'Dropout_layer_2': 0.1, 'Hidden_units_3': 640, 'Dropout_layer_3': 0.30000000000000004, 'learning_rate': 0.001}. Best is trial 3 with value: 1.0641027688980103.\n",
      "[I 2024-06-07 18:02:55,563] Trial 5 finished with value: 1.67431640625 and parameters: {'batch_size': 128, 'num_layers': 4, 'Hidden_units_0': 384, 'Dropout_layer_0': 0.4, 'Hidden_units_1': 768, 'Dropout_layer_1': 0.5, 'Hidden_units_2': 512, 'Dropout_layer_2': 0.30000000000000004, 'Hidden_units_3': 768, 'Dropout_layer_3': 0.2, 'learning_rate': 0.01}. Best is trial 3 with value: 1.0641027688980103.\n",
      "[I 2024-06-07 18:02:59,504] Trial 6 finished with value: 1.1672857999801636 and parameters: {'batch_size': 128, 'num_layers': 1, 'Hidden_units_0': 896, 'Dropout_layer_0': 0.2, 'learning_rate': 0.001}. Best is trial 3 with value: 1.0641027688980103.\n",
      "[I 2024-06-07 18:03:09,114] Trial 7 finished with value: 1.2414510250091553 and parameters: {'batch_size': 128, 'num_layers': 3, 'Hidden_units_0': 1024, 'Dropout_layer_0': 0.4, 'Hidden_units_1': 512, 'Dropout_layer_1': 0.2, 'Hidden_units_2': 256, 'Dropout_layer_2': 0.4, 'learning_rate': 0.01}. Best is trial 3 with value: 1.0641027688980103.\n",
      "[I 2024-06-07 18:03:12,578] Trial 8 finished with value: 1.1229486465454102 and parameters: {'batch_size': 128, 'num_layers': 1, 'Hidden_units_0': 512, 'Dropout_layer_0': 0.2, 'learning_rate': 0.01}. Best is trial 3 with value: 1.0641027688980103.\n",
      "[I 2024-06-07 18:03:25,009] Trial 9 finished with value: 1.0634411573410034 and parameters: {'batch_size': 128, 'num_layers': 4, 'Hidden_units_0': 384, 'Dropout_layer_0': 0.1, 'Hidden_units_1': 896, 'Dropout_layer_1': 0.2, 'Hidden_units_2': 384, 'Dropout_layer_2': 0.1, 'Hidden_units_3': 640, 'Dropout_layer_3': 0.4, 'learning_rate': 0.0001}. Best is trial 9 with value: 1.0634411573410034.\n",
      "[I 2024-06-07 18:03:36,218] Trial 10 finished with value: 1.091002106666565 and parameters: {'batch_size': 32, 'num_layers': 2, 'Hidden_units_0': 256, 'Dropout_layer_0': 0.1, 'Hidden_units_1': 1024, 'Dropout_layer_1': 0.1, 'learning_rate': 0.0001}. Best is trial 9 with value: 1.0634411573410034.\n",
      "[I 2024-06-07 18:03:48,989] Trial 11 finished with value: 1.0590568780899048 and parameters: {'batch_size': 64, 'num_layers': 2, 'Hidden_units_0': 512, 'Dropout_layer_0': 0.4, 'Hidden_units_1': 1024, 'Dropout_layer_1': 0.30000000000000004, 'learning_rate': 0.0001}. Best is trial 11 with value: 1.0590568780899048.\n",
      "[I 2024-06-07 18:03:58,465] Trial 12 finished with value: 1.0822789669036865 and parameters: {'batch_size': 64, 'num_layers': 2, 'Hidden_units_0': 384, 'Dropout_layer_0': 0.30000000000000004, 'Hidden_units_1': 1024, 'Dropout_layer_1': 0.30000000000000004, 'learning_rate': 0.0001}. Best is trial 11 with value: 1.0590568780899048.\n",
      "[I 2024-06-07 18:04:23,866] Trial 13 finished with value: 1.1048293113708496 and parameters: {'batch_size': 32, 'num_layers': 3, 'Hidden_units_0': 512, 'Dropout_layer_0': 0.5, 'Hidden_units_1': 896, 'Dropout_layer_1': 0.30000000000000004, 'Hidden_units_2': 896, 'Dropout_layer_2': 0.5, 'learning_rate': 0.0001}. Best is trial 11 with value: 1.0590568780899048.\n",
      "[I 2024-06-07 18:04:33,777] Trial 14 finished with value: 1.0572160482406616 and parameters: {'batch_size': 64, 'num_layers': 2, 'Hidden_units_0': 384, 'Dropout_layer_0': 0.30000000000000004, 'Hidden_units_1': 1024, 'Dropout_layer_1': 0.2, 'learning_rate': 0.0001}. Best is trial 14 with value: 1.0572160482406616.\n",
      "[I 2024-06-07 18:04:48,143] Trial 15 finished with value: 1.0794481039047241 and parameters: {'batch_size': 64, 'num_layers': 2, 'Hidden_units_0': 512, 'Dropout_layer_0': 0.30000000000000004, 'Hidden_units_1': 1024, 'Dropout_layer_1': 0.1, 'learning_rate': 0.0001}. Best is trial 14 with value: 1.0572160482406616.\n",
      "[I 2024-06-07 18:05:00,839] Trial 16 finished with value: 1.0544110536575317 and parameters: {'batch_size': 64, 'num_layers': 2, 'Hidden_units_0': 768, 'Dropout_layer_0': 0.4, 'Hidden_units_1': 640, 'Dropout_layer_1': 0.4, 'learning_rate': 0.0001}. Best is trial 16 with value: 1.0544110536575317.\n",
      "[I 2024-06-07 18:05:14,383] Trial 17 finished with value: 1.047207236289978 and parameters: {'batch_size': 64, 'num_layers': 2, 'Hidden_units_0': 896, 'Dropout_layer_0': 0.30000000000000004, 'Hidden_units_1': 512, 'Dropout_layer_1': 0.4, 'learning_rate': 0.0001}. Best is trial 17 with value: 1.047207236289978.\n",
      "[I 2024-06-07 18:05:35,070] Trial 18 finished with value: 1.0847910642623901 and parameters: {'batch_size': 64, 'num_layers': 3, 'Hidden_units_0': 896, 'Dropout_layer_0': 0.5, 'Hidden_units_1': 384, 'Dropout_layer_1': 0.4, 'Hidden_units_2': 768, 'Dropout_layer_2': 0.30000000000000004, 'learning_rate': 0.0001}. Best is trial 17 with value: 1.047207236289978.\n",
      "[I 2024-06-07 18:05:41,414] Trial 19 finished with value: 1.5814642906188965 and parameters: {'batch_size': 64, 'num_layers': 2, 'Hidden_units_0': 1024, 'Dropout_layer_0': 0.4, 'Hidden_units_1': 512, 'Dropout_layer_1': 0.4, 'learning_rate': 0.01}. Best is trial 17 with value: 1.047207236289978.\n",
      "[I 2024-06-07 18:06:12,901] Trial 20 finished with value: 1.1497787237167358 and parameters: {'batch_size': 32, 'num_layers': 3, 'Hidden_units_0': 768, 'Dropout_layer_0': 0.30000000000000004, 'Hidden_units_1': 640, 'Dropout_layer_1': 0.4, 'Hidden_units_2': 1024, 'Dropout_layer_2': 0.5, 'learning_rate': 0.0001}. Best is trial 17 with value: 1.047207236289978.\n",
      "[I 2024-06-07 18:06:25,468] Trial 21 finished with value: 1.0530586242675781 and parameters: {'batch_size': 64, 'num_layers': 2, 'Hidden_units_0': 768, 'Dropout_layer_0': 0.30000000000000004, 'Hidden_units_1': 512, 'Dropout_layer_1': 0.5, 'learning_rate': 0.0001}. Best is trial 17 with value: 1.047207236289978.\n",
      "[I 2024-06-07 18:06:37,088] Trial 22 finished with value: 1.0550440549850464 and parameters: {'batch_size': 64, 'num_layers': 2, 'Hidden_units_0': 768, 'Dropout_layer_0': 0.30000000000000004, 'Hidden_units_1': 512, 'Dropout_layer_1': 0.5, 'learning_rate': 0.0001}. Best is trial 17 with value: 1.047207236289978.\n",
      "[I 2024-06-07 18:06:53,340] Trial 23 finished with value: 1.0633310079574585 and parameters: {'batch_size': 64, 'num_layers': 2, 'Hidden_units_0': 896, 'Dropout_layer_0': 0.4, 'Hidden_units_1': 640, 'Dropout_layer_1': 0.5, 'learning_rate': 0.0001}. Best is trial 17 with value: 1.047207236289978.\n",
      "[I 2024-06-07 18:07:07,199] Trial 24 finished with value: 1.0666265487670898 and parameters: {'batch_size': 64, 'num_layers': 1, 'Hidden_units_0': 768, 'Dropout_layer_0': 0.30000000000000004, 'learning_rate': 0.0001}. Best is trial 17 with value: 1.047207236289978.\n",
      "[I 2024-06-07 18:07:20,240] Trial 25 finished with value: 1.0402758121490479 and parameters: {'batch_size': 64, 'num_layers': 2, 'Hidden_units_0': 896, 'Dropout_layer_0': 0.2, 'Hidden_units_1': 384, 'Dropout_layer_1': 0.4, 'learning_rate': 0.0001}. Best is trial 25 with value: 1.0402758121490479.\n",
      "[I 2024-06-07 18:07:35,761] Trial 26 finished with value: 1.0721253156661987 and parameters: {'batch_size': 64, 'num_layers': 3, 'Hidden_units_0': 896, 'Dropout_layer_0': 0.2, 'Hidden_units_1': 384, 'Dropout_layer_1': 0.5, 'Hidden_units_2': 640, 'Dropout_layer_2': 0.2, 'learning_rate': 0.0001}. Best is trial 25 with value: 1.0402758121490479.\n",
      "[I 2024-06-07 18:07:52,748] Trial 27 finished with value: 1.0596221685409546 and parameters: {'batch_size': 32, 'num_layers': 2, 'Hidden_units_0': 1024, 'Dropout_layer_0': 0.2, 'Hidden_units_1': 384, 'Dropout_layer_1': 0.4, 'learning_rate': 0.0001}. Best is trial 25 with value: 1.0402758121490479.\n",
      "[I 2024-06-07 18:07:57,911] Trial 28 finished with value: 1.1597079038619995 and parameters: {'batch_size': 64, 'num_layers': 1, 'Hidden_units_0': 896, 'Dropout_layer_0': 0.2, 'learning_rate': 0.001}. Best is trial 25 with value: 1.0402758121490479.\n",
      "[I 2024-06-07 18:08:05,512] Trial 29 finished with value: 1.5618047714233398 and parameters: {'batch_size': 64, 'num_layers': 3, 'Hidden_units_0': 640, 'Dropout_layer_0': 0.30000000000000004, 'Hidden_units_1': 256, 'Dropout_layer_1': 0.4, 'Hidden_units_2': 512, 'Dropout_layer_2': 0.4, 'learning_rate': 0.01}. Best is trial 25 with value: 1.0402758121490479.\n",
      "[I 2024-06-07 18:08:12,429] Trial 30 finished with value: 1.1630988121032715 and parameters: {'batch_size': 64, 'num_layers': 2, 'Hidden_units_0': 1024, 'Dropout_layer_0': 0.1, 'Hidden_units_1': 384, 'Dropout_layer_1': 0.5, 'learning_rate': 0.001}. Best is trial 25 with value: 1.0402758121490479.\n",
      "[I 2024-06-07 18:08:27,914] Trial 31 finished with value: 1.0645976066589355 and parameters: {'batch_size': 64, 'num_layers': 2, 'Hidden_units_0': 768, 'Dropout_layer_0': 0.4, 'Hidden_units_1': 512, 'Dropout_layer_1': 0.4, 'learning_rate': 0.0001}. Best is trial 25 with value: 1.0402758121490479.\n",
      "[I 2024-06-07 18:08:42,387] Trial 32 finished with value: 1.0901283025741577 and parameters: {'batch_size': 64, 'num_layers': 2, 'Hidden_units_0': 640, 'Dropout_layer_0': 0.5, 'Hidden_units_1': 640, 'Dropout_layer_1': 0.30000000000000004, 'learning_rate': 0.0001}. Best is trial 25 with value: 1.0402758121490479.\n",
      "[I 2024-06-07 18:08:56,206] Trial 33 finished with value: 1.0523900985717773 and parameters: {'batch_size': 64, 'num_layers': 2, 'Hidden_units_0': 768, 'Dropout_layer_0': 0.30000000000000004, 'Hidden_units_1': 512, 'Dropout_layer_1': 0.4, 'learning_rate': 0.0001}. Best is trial 25 with value: 1.0402758121490479.\n",
      "[I 2024-06-07 18:09:07,364] Trial 34 finished with value: 1.0746946334838867 and parameters: {'batch_size': 64, 'num_layers': 1, 'Hidden_units_0': 896, 'Dropout_layer_0': 0.30000000000000004, 'learning_rate': 0.0001}. Best is trial 25 with value: 1.0402758121490479.\n",
      "[I 2024-06-07 18:09:21,137] Trial 35 finished with value: 1.0682930946350098 and parameters: {'batch_size': 64, 'num_layers': 2, 'Hidden_units_0': 640, 'Dropout_layer_0': 0.30000000000000004, 'Hidden_units_1': 512, 'Dropout_layer_1': 0.5, 'learning_rate': 0.0001}. Best is trial 25 with value: 1.0402758121490479.\n",
      "[I 2024-06-07 18:09:32,024] Trial 36 finished with value: 1.0796784162521362 and parameters: {'batch_size': 64, 'num_layers': 1, 'Hidden_units_0': 768, 'Dropout_layer_0': 0.2, 'learning_rate': 0.0001}. Best is trial 25 with value: 1.0402758121490479.\n",
      "[I 2024-06-07 18:09:39,686] Trial 37 finished with value: 1.1560145616531372 and parameters: {'batch_size': 32, 'num_layers': 2, 'Hidden_units_0': 896, 'Dropout_layer_0': 0.2, 'Hidden_units_1': 384, 'Dropout_layer_1': 0.4, 'learning_rate': 0.001}. Best is trial 25 with value: 1.0402758121490479.\n",
      "[I 2024-06-07 18:09:54,438] Trial 38 finished with value: 1.0741496086120605 and parameters: {'batch_size': 64, 'num_layers': 3, 'Hidden_units_0': 768, 'Dropout_layer_0': 0.30000000000000004, 'Hidden_units_1': 256, 'Dropout_layer_1': 0.4, 'Hidden_units_2': 768, 'Dropout_layer_2': 0.2, 'learning_rate': 0.0001}. Best is trial 25 with value: 1.0402758121490479.\n",
      "[I 2024-06-07 18:09:58,639] Trial 39 finished with value: 1.1469502449035645 and parameters: {'batch_size': 64, 'num_layers': 1, 'Hidden_units_0': 896, 'Dropout_layer_0': 0.2, 'learning_rate': 0.001}. Best is trial 25 with value: 1.0402758121490479.\n",
      "[I 2024-06-07 18:10:03,717] Trial 40 finished with value: 1.1963368654251099 and parameters: {'batch_size': 128, 'num_layers': 2, 'Hidden_units_0': 768, 'Dropout_layer_0': 0.2, 'Hidden_units_1': 512, 'Dropout_layer_1': 0.30000000000000004, 'learning_rate': 0.01}. Best is trial 25 with value: 1.0402758121490479.\n",
      "[I 2024-06-07 18:10:19,815] Trial 41 finished with value: 1.0633025169372559 and parameters: {'batch_size': 64, 'num_layers': 2, 'Hidden_units_0': 768, 'Dropout_layer_0': 0.4, 'Hidden_units_1': 768, 'Dropout_layer_1': 0.4, 'learning_rate': 0.0001}. Best is trial 25 with value: 1.0402758121490479.\n",
      "[I 2024-06-07 18:10:33,825] Trial 42 finished with value: 1.0629163980484009 and parameters: {'batch_size': 64, 'num_layers': 2, 'Hidden_units_0': 640, 'Dropout_layer_0': 0.4, 'Hidden_units_1': 768, 'Dropout_layer_1': 0.4, 'learning_rate': 0.0001}. Best is trial 25 with value: 1.0402758121490479.\n",
      "[I 2024-06-07 18:10:49,053] Trial 43 finished with value: 1.0560015439987183 and parameters: {'batch_size': 64, 'num_layers': 2, 'Hidden_units_0': 768, 'Dropout_layer_0': 0.30000000000000004, 'Hidden_units_1': 512, 'Dropout_layer_1': 0.4, 'learning_rate': 0.0001}. Best is trial 25 with value: 1.0402758121490479.\n",
      "[I 2024-06-07 18:11:00,293] Trial 44 finished with value: 1.0695921182632446 and parameters: {'batch_size': 64, 'num_layers': 2, 'Hidden_units_0': 896, 'Dropout_layer_0': 0.1, 'Hidden_units_1': 640, 'Dropout_layer_1': 0.5, 'learning_rate': 0.0001}. Best is trial 25 with value: 1.0402758121490479.\n",
      "[I 2024-06-07 18:11:14,542] Trial 45 finished with value: 1.0692991018295288 and parameters: {'batch_size': 128, 'num_layers': 2, 'Hidden_units_0': 1024, 'Dropout_layer_0': 0.4, 'Hidden_units_1': 384, 'Dropout_layer_1': 0.5, 'learning_rate': 0.0001}. Best is trial 25 with value: 1.0402758121490479.\n",
      "[I 2024-06-07 18:11:26,210] Trial 46 finished with value: 1.066447138786316 and parameters: {'batch_size': 64, 'num_layers': 1, 'Hidden_units_0': 768, 'Dropout_layer_0': 0.30000000000000004, 'learning_rate': 0.0001}. Best is trial 25 with value: 1.0402758121490479.\n",
      "[I 2024-06-07 18:11:41,087] Trial 47 finished with value: 1.0688273906707764 and parameters: {'batch_size': 64, 'num_layers': 2, 'Hidden_units_0': 896, 'Dropout_layer_0': 0.5, 'Hidden_units_1': 512, 'Dropout_layer_1': 0.30000000000000004, 'learning_rate': 0.0001}. Best is trial 25 with value: 1.0402758121490479.\n",
      "[I 2024-06-07 18:11:48,652] Trial 48 finished with value: 1.8886536359786987 and parameters: {'batch_size': 32, 'num_layers': 3, 'Hidden_units_0': 640, 'Dropout_layer_0': 0.4, 'Hidden_units_1': 640, 'Dropout_layer_1': 0.4, 'Hidden_units_2': 896, 'Dropout_layer_2': 0.4, 'learning_rate': 0.01}. Best is trial 25 with value: 1.0402758121490479.\n",
      "[I 2024-06-07 18:12:00,770] Trial 49 finished with value: 1.073975682258606 and parameters: {'batch_size': 128, 'num_layers': 2, 'Hidden_units_0': 768, 'Dropout_layer_0': 0.30000000000000004, 'Hidden_units_1': 640, 'Dropout_layer_1': 0.5, 'learning_rate': 0.0001}. Best is trial 25 with value: 1.0402758121490479.\n"
     ]
    },
    {
     "name": "stdout",
     "output_type": "stream",
     "text": [
      "Number of finished trials:  50\n",
      "Best trial:\n",
      "  Value:  1.0402758121490479\n",
      "  Params: \n",
      "    batch_size: 64\n",
      "    num_layers: 2\n",
      "    Hidden_units_0: 896\n",
      "    Dropout_layer_0: 0.2\n",
      "    Hidden_units_1: 384\n",
      "    Dropout_layer_1: 0.4\n",
      "    learning_rate: 0.0001\n"
     ]
    }
   ],
   "source": [
    "# run the algorithm to minimize the validation loss \n",
    "study = optuna.create_study(direction='minimize')\n",
    "study.optimize(objective, n_trials=50)\n",
    "\n",
    "print(\"Number of finished trials: \", len(study.trials))\n",
    "print(\"Best trial:\")\n",
    "trial = study.best_trial\n",
    "\n",
    "print(\"  Value: \", trial.value)\n",
    "print(\"  Params: \")\n",
    "for key, value in trial.params.items():\n",
    "    print(\"    {}: {}\".format(key, value))"
   ]
  },
  {
   "cell_type": "markdown",
   "metadata": {},
   "source": [
    "### Train using the best model's configurations\n",
    "* Compile the MLP model using the optimal hyperparameters\n",
    "* Add again Early stopping callback to avoid overfitting"
   ]
  },
  {
   "cell_type": "code",
   "execution_count": 18,
   "metadata": {
    "execution": {
     "iopub.execute_input": "2024-06-07T18:12:35.850182Z",
     "iopub.status.busy": "2024-06-07T18:12:35.849721Z",
     "iopub.status.idle": "2024-06-07T18:12:49.268909Z",
     "shell.execute_reply": "2024-06-07T18:12:49.267824Z",
     "shell.execute_reply.started": "2024-06-07T18:12:35.850147Z"
    },
    "scrolled": false
   },
   "outputs": [
    {
     "data": {
      "text/html": [
       "<pre style=\"white-space:pre;overflow-x:auto;line-height:normal;font-family:Menlo,'DejaVu Sans Mono',consolas,'Courier New',monospace\"><span style=\"font-weight: bold\">Model: \"sequential_50\"</span>\n",
       "</pre>\n"
      ],
      "text/plain": [
       "\u001b[1mModel: \"sequential_50\"\u001b[0m\n"
      ]
     },
     "metadata": {},
     "output_type": "display_data"
    },
    {
     "data": {
      "text/html": [
       "<pre style=\"white-space:pre;overflow-x:auto;line-height:normal;font-family:Menlo,'DejaVu Sans Mono',consolas,'Courier New',monospace\">┏━━━━━━━━━━━━━━━━━━━━━━━━━━━━━━━━━┳━━━━━━━━━━━━━━━━━━━━━━━━┳━━━━━━━━━━━━━━━┓\n",
       "┃<span style=\"font-weight: bold\"> Layer (type)                    </span>┃<span style=\"font-weight: bold\"> Output Shape           </span>┃<span style=\"font-weight: bold\">       Param # </span>┃\n",
       "┡━━━━━━━━━━━━━━━━━━━━━━━━━━━━━━━━━╇━━━━━━━━━━━━━━━━━━━━━━━━╇━━━━━━━━━━━━━━━┩\n",
       "│ dense_107 (<span style=\"color: #0087ff; text-decoration-color: #0087ff\">Dense</span>)               │ (<span style=\"color: #00d7ff; text-decoration-color: #00d7ff\">None</span>, <span style=\"color: #00af00; text-decoration-color: #00af00\">896</span>)            │       <span style=\"color: #00af00; text-decoration-color: #00af00\">689,024</span> │\n",
       "├─────────────────────────────────┼────────────────────────┼───────────────┤\n",
       "│ dropout_107 (<span style=\"color: #0087ff; text-decoration-color: #0087ff\">Dropout</span>)           │ (<span style=\"color: #00d7ff; text-decoration-color: #00d7ff\">None</span>, <span style=\"color: #00af00; text-decoration-color: #00af00\">896</span>)            │             <span style=\"color: #00af00; text-decoration-color: #00af00\">0</span> │\n",
       "├─────────────────────────────────┼────────────────────────┼───────────────┤\n",
       "│ dense_108 (<span style=\"color: #0087ff; text-decoration-color: #0087ff\">Dense</span>)               │ (<span style=\"color: #00d7ff; text-decoration-color: #00d7ff\">None</span>, <span style=\"color: #00af00; text-decoration-color: #00af00\">384</span>)            │       <span style=\"color: #00af00; text-decoration-color: #00af00\">344,448</span> │\n",
       "├─────────────────────────────────┼────────────────────────┼───────────────┤\n",
       "│ dropout_108 (<span style=\"color: #0087ff; text-decoration-color: #0087ff\">Dropout</span>)           │ (<span style=\"color: #00d7ff; text-decoration-color: #00d7ff\">None</span>, <span style=\"color: #00af00; text-decoration-color: #00af00\">384</span>)            │             <span style=\"color: #00af00; text-decoration-color: #00af00\">0</span> │\n",
       "├─────────────────────────────────┼────────────────────────┼───────────────┤\n",
       "│ Output (<span style=\"color: #0087ff; text-decoration-color: #0087ff\">Dense</span>)                  │ (<span style=\"color: #00d7ff; text-decoration-color: #00d7ff\">None</span>, <span style=\"color: #00af00; text-decoration-color: #00af00\">9</span>)              │         <span style=\"color: #00af00; text-decoration-color: #00af00\">3,465</span> │\n",
       "└─────────────────────────────────┴────────────────────────┴───────────────┘\n",
       "</pre>\n"
      ],
      "text/plain": [
       "┏━━━━━━━━━━━━━━━━━━━━━━━━━━━━━━━━━┳━━━━━━━━━━━━━━━━━━━━━━━━┳━━━━━━━━━━━━━━━┓\n",
       "┃\u001b[1m \u001b[0m\u001b[1mLayer (type)                   \u001b[0m\u001b[1m \u001b[0m┃\u001b[1m \u001b[0m\u001b[1mOutput Shape          \u001b[0m\u001b[1m \u001b[0m┃\u001b[1m \u001b[0m\u001b[1m      Param #\u001b[0m\u001b[1m \u001b[0m┃\n",
       "┡━━━━━━━━━━━━━━━━━━━━━━━━━━━━━━━━━╇━━━━━━━━━━━━━━━━━━━━━━━━╇━━━━━━━━━━━━━━━┩\n",
       "│ dense_107 (\u001b[38;5;33mDense\u001b[0m)               │ (\u001b[38;5;45mNone\u001b[0m, \u001b[38;5;34m896\u001b[0m)            │       \u001b[38;5;34m689,024\u001b[0m │\n",
       "├─────────────────────────────────┼────────────────────────┼───────────────┤\n",
       "│ dropout_107 (\u001b[38;5;33mDropout\u001b[0m)           │ (\u001b[38;5;45mNone\u001b[0m, \u001b[38;5;34m896\u001b[0m)            │             \u001b[38;5;34m0\u001b[0m │\n",
       "├─────────────────────────────────┼────────────────────────┼───────────────┤\n",
       "│ dense_108 (\u001b[38;5;33mDense\u001b[0m)               │ (\u001b[38;5;45mNone\u001b[0m, \u001b[38;5;34m384\u001b[0m)            │       \u001b[38;5;34m344,448\u001b[0m │\n",
       "├─────────────────────────────────┼────────────────────────┼───────────────┤\n",
       "│ dropout_108 (\u001b[38;5;33mDropout\u001b[0m)           │ (\u001b[38;5;45mNone\u001b[0m, \u001b[38;5;34m384\u001b[0m)            │             \u001b[38;5;34m0\u001b[0m │\n",
       "├─────────────────────────────────┼────────────────────────┼───────────────┤\n",
       "│ Output (\u001b[38;5;33mDense\u001b[0m)                  │ (\u001b[38;5;45mNone\u001b[0m, \u001b[38;5;34m9\u001b[0m)              │         \u001b[38;5;34m3,465\u001b[0m │\n",
       "└─────────────────────────────────┴────────────────────────┴───────────────┘\n"
      ]
     },
     "metadata": {},
     "output_type": "display_data"
    },
    {
     "data": {
      "text/html": [
       "<pre style=\"white-space:pre;overflow-x:auto;line-height:normal;font-family:Menlo,'DejaVu Sans Mono',consolas,'Courier New',monospace\"><span style=\"font-weight: bold\"> Total params: </span><span style=\"color: #00af00; text-decoration-color: #00af00\">1,036,937</span> (3.96 MB)\n",
       "</pre>\n"
      ],
      "text/plain": [
       "\u001b[1m Total params: \u001b[0m\u001b[38;5;34m1,036,937\u001b[0m (3.96 MB)\n"
      ]
     },
     "metadata": {},
     "output_type": "display_data"
    },
    {
     "data": {
      "text/html": [
       "<pre style=\"white-space:pre;overflow-x:auto;line-height:normal;font-family:Menlo,'DejaVu Sans Mono',consolas,'Courier New',monospace\"><span style=\"font-weight: bold\"> Trainable params: </span><span style=\"color: #00af00; text-decoration-color: #00af00\">1,036,937</span> (3.96 MB)\n",
       "</pre>\n"
      ],
      "text/plain": [
       "\u001b[1m Trainable params: \u001b[0m\u001b[38;5;34m1,036,937\u001b[0m (3.96 MB)\n"
      ]
     },
     "metadata": {},
     "output_type": "display_data"
    },
    {
     "data": {
      "text/html": [
       "<pre style=\"white-space:pre;overflow-x:auto;line-height:normal;font-family:Menlo,'DejaVu Sans Mono',consolas,'Courier New',monospace\"><span style=\"font-weight: bold\"> Non-trainable params: </span><span style=\"color: #00af00; text-decoration-color: #00af00\">0</span> (0.00 B)\n",
       "</pre>\n"
      ],
      "text/plain": [
       "\u001b[1m Non-trainable params: \u001b[0m\u001b[38;5;34m0\u001b[0m (0.00 B)\n"
      ]
     },
     "metadata": {},
     "output_type": "display_data"
    },
    {
     "name": "stdout",
     "output_type": "stream",
     "text": [
      "None\n",
      "Epoch 1/100\n",
      "\u001b[1m13/13\u001b[0m \u001b[32m━━━━━━━━━━━━━━━━━━━━\u001b[0m\u001b[37m\u001b[0m \u001b[1m2s\u001b[0m 36ms/step - categorical_accuracy: 0.2032 - loss: 2.1379 - val_categorical_accuracy: 0.3022 - val_loss: 1.9026\n",
      "Epoch 2/100\n",
      "\u001b[1m13/13\u001b[0m \u001b[32m━━━━━━━━━━━━━━━━━━━━\u001b[0m\u001b[37m\u001b[0m \u001b[1m0s\u001b[0m 18ms/step - categorical_accuracy: 0.3084 - loss: 1.9253 - val_categorical_accuracy: 0.3901 - val_loss: 1.7739\n",
      "Epoch 3/100\n",
      "\u001b[1m13/13\u001b[0m \u001b[32m━━━━━━━━━━━━━━━━━━━━\u001b[0m\u001b[37m\u001b[0m \u001b[1m0s\u001b[0m 19ms/step - categorical_accuracy: 0.3683 - loss: 1.8465 - val_categorical_accuracy: 0.3791 - val_loss: 1.6736\n",
      "Epoch 4/100\n",
      "\u001b[1m13/13\u001b[0m \u001b[32m━━━━━━━━━━━━━━━━━━━━\u001b[0m\u001b[37m\u001b[0m \u001b[1m0s\u001b[0m 18ms/step - categorical_accuracy: 0.3737 - loss: 1.7937 - val_categorical_accuracy: 0.4780 - val_loss: 1.5688\n",
      "Epoch 5/100\n",
      "\u001b[1m13/13\u001b[0m \u001b[32m━━━━━━━━━━━━━━━━━━━━\u001b[0m\u001b[37m\u001b[0m \u001b[1m0s\u001b[0m 18ms/step - categorical_accuracy: 0.4199 - loss: 1.6745 - val_categorical_accuracy: 0.5659 - val_loss: 1.4805\n",
      "Epoch 6/100\n",
      "\u001b[1m13/13\u001b[0m \u001b[32m━━━━━━━━━━━━━━━━━━━━\u001b[0m\u001b[37m\u001b[0m \u001b[1m0s\u001b[0m 19ms/step - categorical_accuracy: 0.4526 - loss: 1.5997 - val_categorical_accuracy: 0.5824 - val_loss: 1.4213\n",
      "Epoch 7/100\n",
      "\u001b[1m13/13\u001b[0m \u001b[32m━━━━━━━━━━━━━━━━━━━━\u001b[0m\u001b[37m\u001b[0m \u001b[1m0s\u001b[0m 18ms/step - categorical_accuracy: 0.4753 - loss: 1.5738 - val_categorical_accuracy: 0.5879 - val_loss: 1.3595\n",
      "Epoch 8/100\n",
      "\u001b[1m13/13\u001b[0m \u001b[32m━━━━━━━━━━━━━━━━━━━━\u001b[0m\u001b[37m\u001b[0m \u001b[1m0s\u001b[0m 19ms/step - categorical_accuracy: 0.5069 - loss: 1.4458 - val_categorical_accuracy: 0.6319 - val_loss: 1.3164\n",
      "Epoch 9/100\n",
      "\u001b[1m13/13\u001b[0m \u001b[32m━━━━━━━━━━━━━━━━━━━━\u001b[0m\u001b[37m\u001b[0m \u001b[1m0s\u001b[0m 22ms/step - categorical_accuracy: 0.5237 - loss: 1.4545 - val_categorical_accuracy: 0.6374 - val_loss: 1.2687\n",
      "Epoch 10/100\n",
      "\u001b[1m13/13\u001b[0m \u001b[32m━━━━━━━━━━━━━━━━━━━━\u001b[0m\u001b[37m\u001b[0m \u001b[1m0s\u001b[0m 19ms/step - categorical_accuracy: 0.5557 - loss: 1.3900 - val_categorical_accuracy: 0.6484 - val_loss: 1.2424\n",
      "Epoch 11/100\n",
      "\u001b[1m13/13\u001b[0m \u001b[32m━━━━━━━━━━━━━━━━━━━━\u001b[0m\u001b[37m\u001b[0m \u001b[1m0s\u001b[0m 18ms/step - categorical_accuracy: 0.5302 - loss: 1.4156 - val_categorical_accuracy: 0.6484 - val_loss: 1.2241\n",
      "Epoch 12/100\n",
      "\u001b[1m13/13\u001b[0m \u001b[32m━━━━━━━━━━━━━━━━━━━━\u001b[0m\u001b[37m\u001b[0m \u001b[1m0s\u001b[0m 19ms/step - categorical_accuracy: 0.5690 - loss: 1.3187 - val_categorical_accuracy: 0.6703 - val_loss: 1.1890\n",
      "Epoch 13/100\n",
      "\u001b[1m13/13\u001b[0m \u001b[32m━━━━━━━━━━━━━━━━━━━━\u001b[0m\u001b[37m\u001b[0m \u001b[1m0s\u001b[0m 19ms/step - categorical_accuracy: 0.5603 - loss: 1.3117 - val_categorical_accuracy: 0.6538 - val_loss: 1.1657\n",
      "Epoch 14/100\n",
      "\u001b[1m13/13\u001b[0m \u001b[32m━━━━━━━━━━━━━━━━━━━━\u001b[0m\u001b[37m\u001b[0m \u001b[1m0s\u001b[0m 19ms/step - categorical_accuracy: 0.5744 - loss: 1.2882 - val_categorical_accuracy: 0.6538 - val_loss: 1.1489\n",
      "Epoch 15/100\n",
      "\u001b[1m13/13\u001b[0m \u001b[32m━━━━━━━━━━━━━━━━━━━━\u001b[0m\u001b[37m\u001b[0m \u001b[1m0s\u001b[0m 19ms/step - categorical_accuracy: 0.5638 - loss: 1.3035 - val_categorical_accuracy: 0.6648 - val_loss: 1.1355\n",
      "Epoch 16/100\n",
      "\u001b[1m13/13\u001b[0m \u001b[32m━━━━━━━━━━━━━━━━━━━━\u001b[0m\u001b[37m\u001b[0m \u001b[1m0s\u001b[0m 18ms/step - categorical_accuracy: 0.5828 - loss: 1.2388 - val_categorical_accuracy: 0.6593 - val_loss: 1.1170\n",
      "Epoch 17/100\n",
      "\u001b[1m13/13\u001b[0m \u001b[32m━━━━━━━━━━━━━━━━━━━━\u001b[0m\u001b[37m\u001b[0m \u001b[1m0s\u001b[0m 19ms/step - categorical_accuracy: 0.5854 - loss: 1.2414 - val_categorical_accuracy: 0.6593 - val_loss: 1.1277\n",
      "Epoch 18/100\n",
      "\u001b[1m13/13\u001b[0m \u001b[32m━━━━━━━━━━━━━━━━━━━━\u001b[0m\u001b[37m\u001b[0m \u001b[1m0s\u001b[0m 18ms/step - categorical_accuracy: 0.5990 - loss: 1.2091 - val_categorical_accuracy: 0.6538 - val_loss: 1.1078\n",
      "Epoch 19/100\n",
      "\u001b[1m13/13\u001b[0m \u001b[32m━━━━━━━━━━━━━━━━━━━━\u001b[0m\u001b[37m\u001b[0m \u001b[1m0s\u001b[0m 19ms/step - categorical_accuracy: 0.5956 - loss: 1.1856 - val_categorical_accuracy: 0.6703 - val_loss: 1.0978\n",
      "Epoch 20/100\n",
      "\u001b[1m13/13\u001b[0m \u001b[32m━━━━━━━━━━━━━━━━━━━━\u001b[0m\u001b[37m\u001b[0m \u001b[1m0s\u001b[0m 19ms/step - categorical_accuracy: 0.5961 - loss: 1.1765 - val_categorical_accuracy: 0.6868 - val_loss: 1.0932\n",
      "Epoch 21/100\n",
      "\u001b[1m13/13\u001b[0m \u001b[32m━━━━━━━━━━━━━━━━━━━━\u001b[0m\u001b[37m\u001b[0m \u001b[1m0s\u001b[0m 18ms/step - categorical_accuracy: 0.6065 - loss: 1.1602 - val_categorical_accuracy: 0.6593 - val_loss: 1.0988\n",
      "Epoch 22/100\n",
      "\u001b[1m13/13\u001b[0m \u001b[32m━━━━━━━━━━━━━━━━━━━━\u001b[0m\u001b[37m\u001b[0m \u001b[1m0s\u001b[0m 19ms/step - categorical_accuracy: 0.6292 - loss: 1.1379 - val_categorical_accuracy: 0.6648 - val_loss: 1.0821\n",
      "Epoch 23/100\n",
      "\u001b[1m13/13\u001b[0m \u001b[32m━━━━━━━━━━━━━━━━━━━━\u001b[0m\u001b[37m\u001b[0m \u001b[1m0s\u001b[0m 18ms/step - categorical_accuracy: 0.6160 - loss: 1.1335 - val_categorical_accuracy: 0.6758 - val_loss: 1.0700\n",
      "Epoch 24/100\n",
      "\u001b[1m13/13\u001b[0m \u001b[32m━━━━━━━━━━━━━━━━━━━━\u001b[0m\u001b[37m\u001b[0m \u001b[1m0s\u001b[0m 19ms/step - categorical_accuracy: 0.6355 - loss: 1.1018 - val_categorical_accuracy: 0.6923 - val_loss: 1.0689\n",
      "Epoch 25/100\n",
      "\u001b[1m13/13\u001b[0m \u001b[32m━━━━━━━━━━━━━━━━━━━━\u001b[0m\u001b[37m\u001b[0m \u001b[1m0s\u001b[0m 18ms/step - categorical_accuracy: 0.6297 - loss: 1.1019 - val_categorical_accuracy: 0.6758 - val_loss: 1.0735\n",
      "Epoch 26/100\n",
      "\u001b[1m13/13\u001b[0m \u001b[32m━━━━━━━━━━━━━━━━━━━━\u001b[0m\u001b[37m\u001b[0m \u001b[1m0s\u001b[0m 18ms/step - categorical_accuracy: 0.6186 - loss: 1.1147 - val_categorical_accuracy: 0.6648 - val_loss: 1.0708\n",
      "Epoch 27/100\n",
      "\u001b[1m13/13\u001b[0m \u001b[32m━━━━━━━━━━━━━━━━━━━━\u001b[0m\u001b[37m\u001b[0m \u001b[1m0s\u001b[0m 18ms/step - categorical_accuracy: 0.6196 - loss: 1.0966 - val_categorical_accuracy: 0.6648 - val_loss: 1.0842\n",
      "Epoch 28/100\n",
      "\u001b[1m13/13\u001b[0m \u001b[32m━━━━━━━━━━━━━━━━━━━━\u001b[0m\u001b[37m\u001b[0m \u001b[1m0s\u001b[0m 19ms/step - categorical_accuracy: 0.6212 - loss: 1.0943 - val_categorical_accuracy: 0.6813 - val_loss: 1.0684\n",
      "Epoch 29/100\n",
      "\u001b[1m13/13\u001b[0m \u001b[32m━━━━━━━━━━━━━━━━━━━━\u001b[0m\u001b[37m\u001b[0m \u001b[1m0s\u001b[0m 18ms/step - categorical_accuracy: 0.6341 - loss: 1.1028 - val_categorical_accuracy: 0.6868 - val_loss: 1.0655\n",
      "Epoch 30/100\n",
      "\u001b[1m13/13\u001b[0m \u001b[32m━━━━━━━━━━━━━━━━━━━━\u001b[0m\u001b[37m\u001b[0m \u001b[1m0s\u001b[0m 19ms/step - categorical_accuracy: 0.6342 - loss: 1.0877 - val_categorical_accuracy: 0.6868 - val_loss: 1.0606\n",
      "Epoch 31/100\n",
      "\u001b[1m13/13\u001b[0m \u001b[32m━━━━━━━━━━━━━━━━━━━━\u001b[0m\u001b[37m\u001b[0m \u001b[1m0s\u001b[0m 19ms/step - categorical_accuracy: 0.6606 - loss: 1.0077 - val_categorical_accuracy: 0.6868 - val_loss: 1.0661\n",
      "Epoch 32/100\n",
      "\u001b[1m13/13\u001b[0m \u001b[32m━━━━━━━━━━━━━━━━━━━━\u001b[0m\u001b[37m\u001b[0m \u001b[1m0s\u001b[0m 18ms/step - categorical_accuracy: 0.6733 - loss: 0.9938 - val_categorical_accuracy: 0.6923 - val_loss: 1.0603\n",
      "Epoch 33/100\n",
      "\u001b[1m13/13\u001b[0m \u001b[32m━━━━━━━━━━━━━━━━━━━━\u001b[0m\u001b[37m\u001b[0m \u001b[1m0s\u001b[0m 18ms/step - categorical_accuracy: 0.6461 - loss: 1.0294 - val_categorical_accuracy: 0.6813 - val_loss: 1.0627\n",
      "Epoch 34/100\n",
      "\u001b[1m13/13\u001b[0m \u001b[32m━━━━━━━━━━━━━━━━━━━━\u001b[0m\u001b[37m\u001b[0m \u001b[1m0s\u001b[0m 19ms/step - categorical_accuracy: 0.6667 - loss: 0.9902 - val_categorical_accuracy: 0.6758 - val_loss: 1.0532\n",
      "Epoch 35/100\n",
      "\u001b[1m13/13\u001b[0m \u001b[32m━━━━━━━━━━━━━━━━━━━━\u001b[0m\u001b[37m\u001b[0m \u001b[1m0s\u001b[0m 18ms/step - categorical_accuracy: 0.6476 - loss: 1.0220 - val_categorical_accuracy: 0.6593 - val_loss: 1.0757\n",
      "Epoch 36/100\n",
      "\u001b[1m13/13\u001b[0m \u001b[32m━━━━━━━━━━━━━━━━━━━━\u001b[0m\u001b[37m\u001b[0m \u001b[1m0s\u001b[0m 18ms/step - categorical_accuracy: 0.6642 - loss: 1.0423 - val_categorical_accuracy: 0.6868 - val_loss: 1.0737\n",
      "Epoch 37/100\n",
      "\u001b[1m13/13\u001b[0m \u001b[32m━━━━━━━━━━━━━━━━━━━━\u001b[0m\u001b[37m\u001b[0m \u001b[1m0s\u001b[0m 18ms/step - categorical_accuracy: 0.6738 - loss: 1.0005 - val_categorical_accuracy: 0.6758 - val_loss: 1.0663\n",
      "Epoch 38/100\n",
      "\u001b[1m13/13\u001b[0m \u001b[32m━━━━━━━━━━━━━━━━━━━━\u001b[0m\u001b[37m\u001b[0m \u001b[1m0s\u001b[0m 18ms/step - categorical_accuracy: 0.6408 - loss: 1.0295 - val_categorical_accuracy: 0.6703 - val_loss: 1.0626\n",
      "Epoch 39/100\n",
      "\u001b[1m13/13\u001b[0m \u001b[32m━━━━━━━━━━━━━━━━━━━━\u001b[0m\u001b[37m\u001b[0m \u001b[1m0s\u001b[0m 18ms/step - categorical_accuracy: 0.6670 - loss: 0.9734 - val_categorical_accuracy: 0.6758 - val_loss: 1.0558\n",
      "Epoch 40/100\n",
      "\u001b[1m13/13\u001b[0m \u001b[32m━━━━━━━━━━━━━━━━━━━━\u001b[0m\u001b[37m\u001b[0m \u001b[1m0s\u001b[0m 18ms/step - categorical_accuracy: 0.6717 - loss: 0.9576 - val_categorical_accuracy: 0.6813 - val_loss: 1.0586\n",
      "Epoch 41/100\n",
      "\u001b[1m13/13\u001b[0m \u001b[32m━━━━━━━━━━━━━━━━━━━━\u001b[0m\u001b[37m\u001b[0m \u001b[1m0s\u001b[0m 19ms/step - categorical_accuracy: 0.6910 - loss: 0.9482 - val_categorical_accuracy: 0.6593 - val_loss: 1.0618\n",
      "Epoch 42/100\n",
      "\u001b[1m13/13\u001b[0m \u001b[32m━━━━━━━━━━━━━━━━━━━━\u001b[0m\u001b[37m\u001b[0m \u001b[1m0s\u001b[0m 18ms/step - categorical_accuracy: 0.6614 - loss: 0.9512 - val_categorical_accuracy: 0.6703 - val_loss: 1.0718\n",
      "Epoch 43/100\n",
      "\u001b[1m13/13\u001b[0m \u001b[32m━━━━━━━━━━━━━━━━━━━━\u001b[0m\u001b[37m\u001b[0m \u001b[1m0s\u001b[0m 19ms/step - categorical_accuracy: 0.6884 - loss: 0.9396 - val_categorical_accuracy: 0.6758 - val_loss: 1.0576\n",
      "Epoch 44/100\n",
      "\u001b[1m13/13\u001b[0m \u001b[32m━━━━━━━━━━━━━━━━━━━━\u001b[0m\u001b[37m\u001b[0m \u001b[1m0s\u001b[0m 18ms/step - categorical_accuracy: 0.6999 - loss: 0.8924 - val_categorical_accuracy: 0.6648 - val_loss: 1.0685\n",
      "Epoch 44: early stopping\n",
      "Restoring model weights from the end of the best epoch: 34.\n"
     ]
    }
   ],
   "source": [
    "# run the model using the best trial's hyperparameter found\n",
    "model_text = build_MLP_model_tuning(study.best_trial)\n",
    "\n",
    "print(model_text.summary())\n",
    "\n",
    "early_stopping = EarlyStopping(monitor='val_loss', patience=10, verbose=2, restore_best_weights=True)\n",
    "\n",
    "history_text = model_text.fit(X_train, \n",
    "                        Y_train_1hot,\n",
    "                        validation_data=(X_val, Y_val_1hot),\n",
    "                        #validation_split=0.1,\n",
    "                        batch_size=128,\n",
    "                        epochs=100,\n",
    "                        shuffle=True,\n",
    "                        callbacks=[early_stopping])"
   ]
  },
  {
   "cell_type": "markdown",
   "metadata": {},
   "source": [
    "### Evaluate performance"
   ]
  },
  {
   "cell_type": "code",
   "execution_count": 19,
   "metadata": {
    "execution": {
     "iopub.execute_input": "2024-06-07T18:13:00.693492Z",
     "iopub.status.busy": "2024-06-07T18:13:00.692892Z",
     "iopub.status.idle": "2024-06-07T18:13:01.255295Z",
     "shell.execute_reply": "2024-06-07T18:13:01.254131Z",
     "shell.execute_reply.started": "2024-06-07T18:13:00.693451Z"
    }
   },
   "outputs": [
    {
     "data": {
      "image/png": "[encoded data removed]",
      "text/plain": [
       "<Figure size 640x480 with 1 Axes>"
      ]
     },
     "metadata": {},
     "output_type": "display_data"
    },
    {
     "data": {
      "image/png": "[encoded data removed]",
      "text/plain": [
       "<Figure size 640x480 with 1 Axes>"
      ]
     },
     "metadata": {},
     "output_type": "display_data"
    }
   ],
   "source": [
    "%matplotlib inline\n",
    "import matplotlib.pyplot as plt\n",
    "\n",
    "\n",
    "# summarize history for accuracy\n",
    "plt.plot(history_text.history['categorical_accuracy'])\n",
    "plt.plot(history_text.history['val_categorical_accuracy'])\n",
    "plt.title('model accuracy')\n",
    "plt.ylabel('accuracy')\n",
    "plt.xlabel('epoch')\n",
    "plt.legend(['train', 'val'], loc='upper left')\n",
    "plt.show()\n",
    "\n",
    "# summarize history for loss\n",
    "plt.plot(history_text.history['loss'])\n",
    "plt.plot(history_text.history['val_loss'])\n",
    "plt.title('model loss')\n",
    "plt.ylabel('loss')\n",
    "plt.xlabel('epoch')\n",
    "plt.legend(['train', 'val'], loc='upper right')\n",
    "plt.show()"
   ]
  },
  {
   "cell_type": "code",
   "execution_count": 20,
   "metadata": {
    "execution": {
     "iopub.execute_input": "2024-06-07T18:13:10.280668Z",
     "iopub.status.busy": "2024-06-07T18:13:10.280207Z",
     "iopub.status.idle": "2024-06-07T18:13:10.490959Z",
     "shell.execute_reply": "2024-06-07T18:13:10.489448Z",
     "shell.execute_reply.started": "2024-06-07T18:13:10.280630Z"
    }
   },
   "outputs": [
    {
     "name": "stdout",
     "output_type": "stream",
     "text": [
      "\u001b[1m6/6\u001b[0m \u001b[32m━━━━━━━━━━━━━━━━━━━━\u001b[0m\u001b[37m\u001b[0m \u001b[1m0s\u001b[0m 11ms/step\n",
      "\n",
      "===========Confusion Matrix===========\n",
      "\n",
      "[[ 5  0  0  1  0  2  0  0  0]\n",
      " [ 0  9  1  2  0  1  0  0  1]\n",
      " [ 0  0 19  3  0  1  1  2  1]\n",
      " [ 1  2  3 46  0  1  0  0  2]\n",
      " [ 0  0  4  0  6  1  0  0  0]\n",
      " [ 0  0  2  9  1 14  0  0  2]\n",
      " [ 0  0  2  2  0  1  5  0  0]\n",
      " [ 0  0  0  2  0  2  0  6  0]\n",
      " [ 0  0  1  5  0  0  0  0 13]]\n",
      "\n",
      "===========Classification Report===========\n",
      "\n",
      "              precision    recall  f1-score   support\n",
      "\n",
      "           0       0.83      0.62      0.71         8\n",
      "           1       0.82      0.64      0.72        14\n",
      "           2       0.59      0.70      0.64        27\n",
      "           3       0.66      0.84      0.74        55\n",
      "           4       0.86      0.55      0.67        11\n",
      "           5       0.61      0.50      0.55        28\n",
      "           6       0.83      0.50      0.62        10\n",
      "           7       0.75      0.60      0.67        10\n",
      "           8       0.68      0.68      0.68        19\n",
      "\n",
      "    accuracy                           0.68       182\n",
      "   macro avg       0.74      0.63      0.67       182\n",
      "weighted avg       0.69      0.68      0.67       182\n",
      "\n"
     ]
    }
   ],
   "source": [
    "# store the predicted labels\n",
    "y_pred_text = np.argmax(model_text.predict(X_val), -1)\n",
    "\n",
    "print('\\n===========Confusion Matrix===========\\n')\n",
    "print(confusion_matrix(np.array(Y_val).astype(int), y_pred_text))\n",
    "\n",
    "print('\\n===========Classification Report===========\\n')\n",
    "print(classification_report(np.array(Y_val).astype(int), y_pred_text))"
   ]
  },
  {
   "cell_type": "markdown",
   "metadata": {},
   "source": [
    "* The classification report demonstrates an important improvement in performance using a text-based model with MLPs compared to logistic regression, with an accuracy of ~68%."
   ]
  },
  {
   "cell_type": "markdown",
   "metadata": {},
   "source": [
    "### Use the outputs as input vectors\n",
    "* We'll utilize the trained model to generate the probability distributions for the nine classes (calling the predict method for train and test domains) on both the training and test datasets. These distributions will then serve as additional features, to train another Multi-Layer Perceptron (MLP) model.\n",
    "* By incorporating these probs as additional features, the new model can leverage this information to potentially improve its predictive performance since these distributions capture the model's confidence in its predictions for each class, providing insights that may enhance the overall accuracy and robustness of the new model."
   ]
  },
  {
   "cell_type": "code",
   "execution_count": 21,
   "metadata": {
    "execution": {
     "iopub.execute_input": "2024-06-07T18:13:47.162040Z",
     "iopub.status.busy": "2024-06-07T18:13:47.161573Z",
     "iopub.status.idle": "2024-06-07T18:13:47.601788Z",
     "shell.execute_reply": "2024-06-07T18:13:47.600550Z",
     "shell.execute_reply.started": "2024-06-07T18:13:47.162006Z"
    }
   },
   "outputs": [
    {
     "name": "stdout",
     "output_type": "stream",
     "text": [
      "\u001b[1m57/57\u001b[0m \u001b[32m━━━━━━━━━━━━━━━━━━━━\u001b[0m\u001b[37m\u001b[0m \u001b[1m0s\u001b[0m 3ms/step\n",
      "\u001b[1m19/19\u001b[0m \u001b[32m━━━━━━━━━━━━━━━━━━━━\u001b[0m\u001b[37m\u001b[0m \u001b[1m0s\u001b[0m 3ms/step\n"
     ]
    }
   ],
   "source": [
    "y_probs_text_train = model_text.predict(X_train_all)\n",
    "y_probs_text_test = model_text.predict(X_test)"
   ]
  },
  {
   "cell_type": "markdown",
   "metadata": {},
   "source": [
    "## Create and incorporate graph-based features \n",
    "### Connectivity | In/Out-degrees\n",
    "* Extracting information from the graph, such as node degrees and average neighbor degrees, provides valuable insights into the structural properties of the network surrounding the domains of interest.\n",
    "* The in-degree and out-degree of nodes in the graph can indicate the level of influence a domain has within the network and how many other domains it is connected to.\n",
    "* Average neighbor degree reflects the average degree of neighboring nodes for each domain, offering insights into the local connectivity patterns.\n"
   ]
  },
  {
   "cell_type": "code",
   "execution_count": 22,
   "metadata": {
    "execution": {
     "iopub.execute_input": "2024-06-07T18:13:56.910798Z",
     "iopub.status.busy": "2024-06-07T18:13:56.910347Z",
     "iopub.status.idle": "2024-06-07T18:14:07.062285Z",
     "shell.execute_reply": "2024-06-07T18:14:07.060923Z",
     "shell.execute_reply.started": "2024-06-07T18:13:56.910765Z"
    }
   },
   "outputs": [
    {
     "name": "stdout",
     "output_type": "stream",
     "text": [
      "Number of nodes: 65208\n",
      "Number of edges: 1642073\n"
     ]
    }
   ],
   "source": [
    "# Create a directed graph\n",
    "G = nx.read_edgelist(data_path+'edgelist.txt', delimiter=' ', create_using=nx.DiGraph())\n",
    "\n",
    "node_to_idx = dict()\n",
    "for i, node in enumerate(G.nodes()):\n",
    "    node_to_idx[node] = i\n",
    "    \n",
    "print('Number of nodes:', G.number_of_nodes())\n",
    "print('Number of edges:', G.number_of_edges())"
   ]
  },
  {
   "cell_type": "code",
   "execution_count": 23,
   "metadata": {
    "execution": {
     "iopub.execute_input": "2024-06-07T18:14:24.834540Z",
     "iopub.status.busy": "2024-06-07T18:14:24.834119Z",
     "iopub.status.idle": "2024-06-07T18:14:25.117584Z",
     "shell.execute_reply": "2024-06-07T18:14:25.116446Z",
     "shell.execute_reply.started": "2024-06-07T18:14:24.834510Z"
    }
   },
   "outputs": [],
   "source": [
    "graph_feat_train = np.zeros((len(train_domains), 3))\n",
    "avg_neig_deg = nx.average_neighbor_degree(G, nodes=train_domains)\n",
    "for i in range(len(train_domains)):\n",
    "    graph_feat_train[i,0] = G.in_degree(train_domains[i])\n",
    "    graph_feat_train[i,1] = G.out_degree(train_domains[i])\n",
    "    graph_feat_train[i,2] = avg_neig_deg[train_domains[i]]\n",
    "\n",
    "# Create the test matrix. Use the same 3 features as above\n",
    "graph_feat_test = np.zeros((len(test_domains), 3))\n",
    "avg_neig_deg = nx.average_neighbor_degree(G, nodes=test_domains)\n",
    "for i in range(len(test_domains)):\n",
    "    graph_feat_test[i,0] = G.in_degree(test_domains[i])\n",
    "    graph_feat_test[i,1] = G.out_degree(test_domains[i])\n",
    "    graph_feat_test[i,2] = avg_neig_deg[test_domains[i]]"
   ]
  },
  {
   "cell_type": "markdown",
   "metadata": {},
   "source": [
    "### Connectivity | Random Walks \n",
    "\n",
    "* Generate random walks for nodes in the graph by traversing the graph from randomly selected starting nodes, choosing neighboring nodes at each step.\n",
    "* Represent each random walk sequence as a \"text\" document, where nodes visited in the random walk correspond to \"words\" in the text.\n",
    "* Train a Skip-gram model (woc2vec) on the random walk sequences, treating them as \"sentences,\" to learn embeddings for each node capturing the structural information of the graph."
   ]
  },
  {
   "cell_type": "code",
   "execution_count": 24,
   "metadata": {
    "execution": {
     "iopub.execute_input": "2024-06-07T18:14:30.334079Z",
     "iopub.status.busy": "2024-06-07T18:14:30.333656Z",
     "iopub.status.idle": "2024-06-07T18:15:17.825046Z",
     "shell.execute_reply": "2024-06-07T18:15:17.823815Z",
     "shell.execute_reply.started": "2024-06-07T18:14:30.334042Z"
    }
   },
   "outputs": [
    {
     "name": "stdout",
     "output_type": "stream",
     "text": [
      "['blog.com.gr', 'aftodioikisi.gr']\n"
     ]
    }
   ],
   "source": [
    "def random_walk(G, node, walk_length):\n",
    "    \"\"\" Starts from vertex \"node\" and performs a random walk of length \"walk length\". Returns a list of the visited vertices \"\"\"\n",
    "    walk = [node]\n",
    "\n",
    "    for _ in range(walk_length-1):\n",
    "        neighbors = list(G.neighbors(walk[-1]))\n",
    "        if len(neighbors) > 0:\n",
    "            neighbor = choice(neighbors)\n",
    "            walk.append(neighbor)\n",
    "        else:\n",
    "            break\n",
    "\n",
    "    walk = [str(node) for node in walk]\n",
    "    return walk\n",
    "\n",
    "\n",
    "def generate_walks(G, num_walks, walk_length):\n",
    "    \"\"\" Runs \"num_walks\" random walks from each node, and returns a list of all random walk \"\"\" \n",
    "    walks = []\n",
    "\n",
    "    for _ in range(num_walks):\n",
    "        for node in G.nodes():\n",
    "            walk = random_walk(G, node, walk_length)\n",
    "            walks.append(walk)\n",
    "\n",
    "    return walks\n",
    "\n",
    "walks = generate_walks(G, 20, 40) #10\n",
    "print(walks[0])"
   ]
  },
  {
   "cell_type": "code",
   "execution_count": 25,
   "metadata": {
    "execution": {
     "iopub.execute_input": "2024-06-07T18:15:51.108756Z",
     "iopub.status.busy": "2024-06-07T18:15:51.107714Z",
     "iopub.status.idle": "2024-06-07T18:17:54.356336Z",
     "shell.execute_reply": "2024-06-07T18:17:54.355191Z",
     "shell.execute_reply.started": "2024-06-07T18:15:51.108714Z"
    }
   },
   "outputs": [],
   "source": [
    "# train a skip-gram model to vectorize the random walks for each node of the network\n",
    "w2vec = Word2Vec(walks, vector_size=128, window=10, min_count=0, sg=1, workers=8, epochs=5)"
   ]
  },
  {
   "cell_type": "code",
   "execution_count": 26,
   "metadata": {
    "execution": {
     "iopub.execute_input": "2024-06-07T18:18:13.948756Z",
     "iopub.status.busy": "2024-06-07T18:18:13.948322Z",
     "iopub.status.idle": "2024-06-07T18:18:13.969051Z",
     "shell.execute_reply": "2024-06-07T18:18:13.967737Z",
     "shell.execute_reply.started": "2024-06-07T18:18:13.948722Z"
    }
   },
   "outputs": [],
   "source": [
    "# Create the training matrix. Each row corresponds to a web host.\n",
    "graph_walks_train = np.zeros((len(train_domains), 128))\n",
    "for i, domain in enumerate(train_domains):\n",
    "    graph_walks_train[i,:] = w2vec.wv[domain]\n",
    "\n",
    "# Create the test matrix. \n",
    "graph_walks_test = np.zeros((len(test_domains), 128))\n",
    "for i, domain in enumerate(test_domains):\n",
    "    graph_walks_test[i,:] = w2vec.wv[domain]"
   ]
  },
  {
   "cell_type": "markdown",
   "metadata": {},
   "source": [
    "### Connectivity | Louvain algorithm to get community labels\n",
    "* Convert the graph to undirected graph and partition the nodes into communities based on their connectivity patterns using Louvain algorithm"
   ]
  },
  {
   "cell_type": "code",
   "execution_count": 28,
   "metadata": {
    "execution": {
     "iopub.execute_input": "2024-06-07T18:20:03.239632Z",
     "iopub.status.busy": "2024-06-07T18:20:03.238511Z",
     "iopub.status.idle": "2024-06-07T18:23:08.655647Z",
     "shell.execute_reply": "2024-06-07T18:23:08.654332Z",
     "shell.execute_reply.started": "2024-06-07T18:20:03.239572Z"
    }
   },
   "outputs": [],
   "source": [
    "G_undirected = G.to_undirected()\n",
    "\n",
    "# Run the Louvain algorithm\n",
    "partition = community_louvain.best_partition(G_undirected, random_state=66)"
   ]
  },
  {
   "cell_type": "code",
   "execution_count": 29,
   "metadata": {
    "execution": {
     "iopub.execute_input": "2024-06-07T18:23:54.946843Z",
     "iopub.status.busy": "2024-06-07T18:23:54.946391Z",
     "iopub.status.idle": "2024-06-07T18:23:54.957218Z",
     "shell.execute_reply": "2024-06-07T18:23:54.955798Z",
     "shell.execute_reply.started": "2024-06-07T18:23:54.946806Z"
    }
   },
   "outputs": [],
   "source": [
    "train_comm = []\n",
    "# For train domains\n",
    "for domain in train_domains:\n",
    "    train_comm.append(partition[domain])\n",
    "train_comm = np.array(train_comm).reshape(len(train_comm),1)\n",
    "\n",
    "test_comm = []\n",
    "# For test domains\n",
    "for domain in test_domains:\n",
    "    test_comm.append(partition[domain])\n",
    "test_comm = np.array(test_comm).reshape(len(test_comm),1)"
   ]
  },
  {
   "cell_type": "markdown",
   "metadata": {},
   "source": [
    "### Concatenate the corresponding features and create a new feature input\n",
    "* Combine the following to create the new X_train that will feed and fit a new MLP model\n",
    "    * output of text/content-based model (1x9 probabilities distribution)\n",
    "    * w2v embedding representing the neighbor of the node\n",
    "    * the graph-related features about connectivity"
   ]
  },
  {
   "cell_type": "code",
   "execution_count": 30,
   "metadata": {
    "execution": {
     "iopub.execute_input": "2024-06-07T18:25:35.403487Z",
     "iopub.status.busy": "2024-06-07T18:25:35.403086Z",
     "iopub.status.idle": "2024-06-07T18:25:35.410786Z",
     "shell.execute_reply": "2024-06-07T18:25:35.409323Z",
     "shell.execute_reply.started": "2024-06-07T18:25:35.403457Z"
    }
   },
   "outputs": [],
   "source": [
    "X_train_new = np.concatenate((y_probs_text_train, graph_walks_train, graph_feat_train, train_comm), axis=1)\n",
    "X_test_new = np.concatenate((y_probs_text_test, graph_walks_test, graph_feat_test, test_comm), axis=1)"
   ]
  },
  {
   "cell_type": "code",
   "execution_count": 31,
   "metadata": {
    "execution": {
     "iopub.execute_input": "2024-06-07T18:25:53.334101Z",
     "iopub.status.busy": "2024-06-07T18:25:53.333689Z",
     "iopub.status.idle": "2024-06-07T18:25:53.346646Z",
     "shell.execute_reply": "2024-06-07T18:25:53.345583Z",
     "shell.execute_reply.started": "2024-06-07T18:25:53.334070Z"
    }
   },
   "outputs": [],
   "source": [
    "X_train, X_val, Y_train, Y_val = train_test_split(X_train_new, y_train, test_size=0.1, stratify=y_train, random_state=66)\n",
    "\n",
    "# Create one hot encondings for the target variable NNs to work\n",
    "Y_train_1hot = to_categorical(Y_train, num_classes=9)\n",
    "Y_val_1hot = to_categorical(Y_val, num_classes=9)"
   ]
  },
  {
   "cell_type": "markdown",
   "metadata": {},
   "source": [
    "#### Scale the data and perform Logistic Regression\n",
    "* Again, we first test a simple logistic regression to compare it with the baseline"
   ]
  },
  {
   "cell_type": "code",
   "execution_count": 32,
   "metadata": {
    "execution": {
     "iopub.execute_input": "2024-06-07T18:25:58.430537Z",
     "iopub.status.busy": "2024-06-07T18:25:58.430105Z",
     "iopub.status.idle": "2024-06-07T18:25:58.442083Z",
     "shell.execute_reply": "2024-06-07T18:25:58.440710Z",
     "shell.execute_reply.started": "2024-06-07T18:25:58.430504Z"
    }
   },
   "outputs": [],
   "source": [
    "scaler = StandardScaler()\n",
    "\n",
    "# Fit the scaler on the training data\n",
    "scaler.fit(X_train)\n",
    "\n",
    "# Transform the training, validation, and test sets\n",
    "X_scaled_train = scaler.transform(X_train)\n",
    "X_scaled_val = scaler.transform(X_val)"
   ]
  },
  {
   "cell_type": "code",
   "execution_count": 33,
   "metadata": {
    "execution": {
     "iopub.execute_input": "2024-06-07T18:26:04.706693Z",
     "iopub.status.busy": "2024-06-07T18:26:04.705576Z",
     "iopub.status.idle": "2024-06-07T18:26:05.041169Z",
     "shell.execute_reply": "2024-06-07T18:26:05.039655Z",
     "shell.execute_reply.started": "2024-06-07T18:26:04.706645Z"
    }
   },
   "outputs": [
    {
     "name": "stdout",
     "output_type": "stream",
     "text": [
      "\n",
      "===========Confusion Matrix===========\n",
      "\n",
      "[[ 5  0  1  0  0  2  0  0  0]\n",
      " [ 0 11  0  1  0  1  0  0  1]\n",
      " [ 0  0 19  3  0  2  2  1  0]\n",
      " [ 1  0  5 37  0  6  1  2  3]\n",
      " [ 0  0  3  0  8  0  0  0  0]\n",
      " [ 1  1  0  6  1 14  1  0  4]\n",
      " [ 0  0  2  1  0  2  3  0  2]\n",
      " [ 0  0  0  0  0  1  0  9  0]\n",
      " [ 0  1  0  1  0  0  0  0 17]]\n",
      "\n",
      "===========Classification Report===========\n",
      "\n",
      "              precision    recall  f1-score   support\n",
      "\n",
      "           0       0.71      0.62      0.67         8\n",
      "           1       0.85      0.79      0.81        14\n",
      "           2       0.63      0.70      0.67        27\n",
      "           3       0.76      0.67      0.71        55\n",
      "           4       0.89      0.73      0.80        11\n",
      "           5       0.50      0.50      0.50        28\n",
      "           6       0.43      0.30      0.35        10\n",
      "           7       0.75      0.90      0.82        10\n",
      "           8       0.63      0.89      0.74        19\n",
      "\n",
      "    accuracy                           0.68       182\n",
      "   macro avg       0.68      0.68      0.67       182\n",
      "weighted avg       0.68      0.68      0.67       182\n",
      "\n"
     ]
    }
   ],
   "source": [
    "# Initialize the logistic regression model\n",
    "model_lr = LogisticRegression(max_iter=3000)\n",
    "\n",
    "# Train the model\n",
    "model_lr.fit(X_scaled_train, np.array(Y_train))\n",
    "\n",
    "# Make predictions on the test set\n",
    "y_val_pred = model_lr.predict(X_scaled_val)\n",
    "\n",
    "print('\\n===========Confusion Matrix===========\\n')\n",
    "print(confusion_matrix(Y_val, y_val_pred))\n",
    "\n",
    "print('\\n===========Classification Report===========\\n')\n",
    "print(classification_report(Y_val, y_val_pred))"
   ]
  },
  {
   "cell_type": "markdown",
   "metadata": {},
   "source": [
    "* The model's performance improved significantly with these enhanced features compared to the benchmark Logistic Regression and achieves accuracy of 68%; Similar validation accuracy with the output of the MLP model 1"
   ]
  },
  {
   "cell_type": "markdown",
   "metadata": {},
   "source": [
    "## Using MLPs \n",
    "* We train and test a second MLP model.\n",
    "\n",
    "### Run Hyperparameter Tuning with Optuna\n",
    "* We are using again Optuna to tune hyperparameters for our second model.\n",
    "* We keep the same function that configures the model to be built with the same parameters to fine tune."
   ]
  },
  {
   "cell_type": "code",
   "execution_count": 34,
   "metadata": {
    "execution": {
     "iopub.execute_input": "2024-06-07T18:26:33.294360Z",
     "iopub.status.busy": "2024-06-07T18:26:33.293966Z",
     "iopub.status.idle": "2024-06-07T18:26:33.309508Z",
     "shell.execute_reply": "2024-06-07T18:26:33.308221Z",
     "shell.execute_reply.started": "2024-06-07T18:26:33.294331Z"
    }
   },
   "outputs": [],
   "source": [
    "def build_MLP_model_tuning(trial):\n",
    "    \"\"\"\n",
    "    Tunes a Multilayer Perceptron (MLP) model's architecture and hyperparameters using Optuna's trial object.\n",
    "    \"\"\"\n",
    "    model = Sequential()\n",
    "\n",
    "    layer_index = 0\n",
    "    for i in range(trial.suggest_int('num_layers', 1, 4)):\n",
    "        if layer_index == 0:\n",
    "            units = trial.suggest_int(f'Hidden_units_{i}', 256, 1024, step=128)\n",
    "            model.add(Dense(units=units, activation='relu', kernel_initializer='glorot_uniform', input_dim=X_train.shape[1])) #input included\n",
    "            model.add(Dropout(trial.suggest_float(f'Dropout_layer_{i}', 0.1, 0.5, step=0.1)))\n",
    "        else:\n",
    "            units = trial.suggest_int(f'Hidden_units_{i}', 256, 1024, step=128)\n",
    "            model.add(Dense(units=units, activation='relu', kernel_initializer='glorot_uniform'))\n",
    "            model.add(Dropout(trial.suggest_float(f'Dropout_layer_{i}', 0.1, 0.5, step=0.1)))\n",
    "\n",
    "        layer_index += 1\n",
    "\n",
    "    # Add last layer that produces the logits\n",
    "    model.add(Dense(units=9, activation='softmax', kernel_initializer='glorot_uniform', name='Output'))\n",
    "    # Tune the learning rate for the optimizer\n",
    "    learning_rate = trial.suggest_categorical('learning_rate', [1e-2, 1e-3, 1e-4])\n",
    "    # Compile the model using categorical cross entropy loss (multiclass classification)\n",
    "    model.compile(loss='categorical_crossentropy', optimizer=Adam(learning_rate=learning_rate), metrics=['categorical_accuracy'])\n",
    "\n",
    "    return model\n",
    "\n",
    "\n",
    "def objective(trial):\n",
    "    \"\"\"\n",
    "    Evaluates the model's performance by optimizing validation loss.\n",
    "    \"\"\"\n",
    "\n",
    "    # Sample batch size\n",
    "    batch_size = trial.suggest_categorical('batch_size', [32, 64, 128])\n",
    "\n",
    "    # Wrap build_MLP_model_tuning function with Optuna's KerasPruningCallback\n",
    "    model = build_MLP_model_tuning(trial)\n",
    "\n",
    "    # Add early stopping to avoid overfitting\n",
    "    early_stopping = EarlyStopping(monitor='val_loss', patience=5)\n",
    "\n",
    "    # Train the model\n",
    "    history = model.fit(\n",
    "        X_scaled_train,\n",
    "        Y_train_1hot,\n",
    "        #validation_split=0.1,\n",
    "        validation_data=(X_scaled_val, Y_val_1hot),\n",
    "        epochs=100,\n",
    "        batch_size=batch_size,\n",
    "        callbacks=[early_stopping], #add early stopping to avoid overfitting, and also save execution time\n",
    "        verbose=0\n",
    "    )\n",
    "\n",
    "    # Return the validation accuracy as the objective value to minimize\n",
    "    return history.history['val_loss'][-1]"
   ]
  },
  {
   "cell_type": "code",
   "execution_count": 35,
   "metadata": {
    "execution": {
     "iopub.execute_input": "2024-06-07T18:27:13.665114Z",
     "iopub.status.busy": "2024-06-07T18:27:13.664657Z",
     "iopub.status.idle": "2024-06-07T18:33:12.047124Z",
     "shell.execute_reply": "2024-06-07T18:33:12.045036Z",
     "shell.execute_reply.started": "2024-06-07T18:27:13.665080Z"
    },
    "scrolled": false
   },
   "outputs": [
    {
     "name": "stderr",
     "output_type": "stream",
     "text": [
      "[I 2024-06-07 18:27:13,668] A new study created in memory with name: no-name-ad95b7d2-f4c8-4097-8341-e722737b1fe6\n",
      "/opt/conda/lib/python3.10/site-packages/keras/src/layers/core/dense.py:87: UserWarning: Do not pass an `input_shape`/`input_dim` argument to a layer. When using Sequential models, prefer using an `Input(shape)` object as the first layer in the model instead.\n",
      "  super().__init__(activity_regularizer=activity_regularizer, **kwargs)\n",
      "[I 2024-06-07 18:27:24,059] Trial 0 finished with value: 0.7861682176589966 and parameters: {'batch_size': 128, 'num_layers': 3, 'Hidden_units_0': 384, 'Dropout_layer_0': 0.30000000000000004, 'Hidden_units_1': 256, 'Dropout_layer_1': 0.5, 'Hidden_units_2': 768, 'Dropout_layer_2': 0.30000000000000004, 'learning_rate': 0.0001}. Best is trial 0 with value: 0.7861682176589966.\n",
      "[I 2024-06-07 18:27:33,105] Trial 1 finished with value: 0.7423121929168701 and parameters: {'batch_size': 32, 'num_layers': 1, 'Hidden_units_0': 768, 'Dropout_layer_0': 0.4, 'learning_rate': 0.0001}. Best is trial 1 with value: 0.7423121929168701.\n",
      "[I 2024-06-07 18:27:36,678] Trial 2 finished with value: 1.134928822517395 and parameters: {'batch_size': 128, 'num_layers': 3, 'Hidden_units_0': 640, 'Dropout_layer_0': 0.4, 'Hidden_units_1': 384, 'Dropout_layer_1': 0.30000000000000004, 'Hidden_units_2': 640, 'Dropout_layer_2': 0.4, 'learning_rate': 0.01}. Best is trial 1 with value: 0.7423121929168701.\n",
      "[I 2024-06-07 18:27:41,426] Trial 3 finished with value: 1.6431307792663574 and parameters: {'batch_size': 32, 'num_layers': 2, 'Hidden_units_0': 1024, 'Dropout_layer_0': 0.1, 'Hidden_units_1': 640, 'Dropout_layer_1': 0.30000000000000004, 'learning_rate': 0.01}. Best is trial 1 with value: 0.7423121929168701.\n",
      "[I 2024-06-07 18:27:45,792] Trial 4 finished with value: 1.9626414775848389 and parameters: {'batch_size': 32, 'num_layers': 2, 'Hidden_units_0': 384, 'Dropout_layer_0': 0.1, 'Hidden_units_1': 768, 'Dropout_layer_1': 0.1, 'learning_rate': 0.01}. Best is trial 1 with value: 0.7423121929168701.\n",
      "[I 2024-06-07 18:27:49,071] Trial 5 finished with value: 0.8675081729888916 and parameters: {'batch_size': 64, 'num_layers': 2, 'Hidden_units_0': 384, 'Dropout_layer_0': 0.5, 'Hidden_units_1': 512, 'Dropout_layer_1': 0.2, 'learning_rate': 0.001}. Best is trial 1 with value: 0.7423121929168701.\n",
      "[I 2024-06-07 18:27:51,918] Trial 6 finished with value: 0.7780405282974243 and parameters: {'batch_size': 128, 'num_layers': 1, 'Hidden_units_0': 256, 'Dropout_layer_0': 0.5, 'learning_rate': 0.001}. Best is trial 1 with value: 0.7423121929168701.\n",
      "[I 2024-06-07 18:27:58,405] Trial 7 finished with value: 1.0975701808929443 and parameters: {'batch_size': 128, 'num_layers': 4, 'Hidden_units_0': 1024, 'Dropout_layer_0': 0.4, 'Hidden_units_1': 1024, 'Dropout_layer_1': 0.4, 'Hidden_units_2': 640, 'Dropout_layer_2': 0.30000000000000004, 'Hidden_units_3': 640, 'Dropout_layer_3': 0.1, 'learning_rate': 0.001}. Best is trial 1 with value: 0.7423121929168701.\n",
      "[I 2024-06-07 18:28:06,167] Trial 8 finished with value: 1.5028290748596191 and parameters: {'batch_size': 64, 'num_layers': 3, 'Hidden_units_0': 1024, 'Dropout_layer_0': 0.1, 'Hidden_units_1': 640, 'Dropout_layer_1': 0.1, 'Hidden_units_2': 640, 'Dropout_layer_2': 0.5, 'learning_rate': 0.01}. Best is trial 1 with value: 0.7423121929168701.\n",
      "[I 2024-06-07 18:28:18,356] Trial 9 finished with value: 0.8589972257614136 and parameters: {'batch_size': 128, 'num_layers': 4, 'Hidden_units_0': 256, 'Dropout_layer_0': 0.1, 'Hidden_units_1': 768, 'Dropout_layer_1': 0.4, 'Hidden_units_2': 768, 'Dropout_layer_2': 0.5, 'Hidden_units_3': 384, 'Dropout_layer_3': 0.5, 'learning_rate': 0.0001}. Best is trial 1 with value: 0.7423121929168701.\n",
      "[I 2024-06-07 18:28:27,175] Trial 10 finished with value: 0.7676002383232117 and parameters: {'batch_size': 32, 'num_layers': 1, 'Hidden_units_0': 768, 'Dropout_layer_0': 0.30000000000000004, 'learning_rate': 0.0001}. Best is trial 1 with value: 0.7423121929168701.\n",
      "[I 2024-06-07 18:28:35,811] Trial 11 finished with value: 0.7542843818664551 and parameters: {'batch_size': 32, 'num_layers': 1, 'Hidden_units_0': 768, 'Dropout_layer_0': 0.30000000000000004, 'learning_rate': 0.0001}. Best is trial 1 with value: 0.7423121929168701.\n",
      "[I 2024-06-07 18:28:44,248] Trial 12 finished with value: 0.7543634176254272 and parameters: {'batch_size': 32, 'num_layers': 1, 'Hidden_units_0': 768, 'Dropout_layer_0': 0.4, 'learning_rate': 0.0001}. Best is trial 1 with value: 0.7423121929168701.\n",
      "[I 2024-06-07 18:28:52,625] Trial 13 finished with value: 0.750912070274353 and parameters: {'batch_size': 32, 'num_layers': 1, 'Hidden_units_0': 768, 'Dropout_layer_0': 0.2, 'learning_rate': 0.0001}. Best is trial 1 with value: 0.7423121929168701.\n",
      "[I 2024-06-07 18:29:00,105] Trial 14 finished with value: 0.7625988721847534 and parameters: {'batch_size': 32, 'num_layers': 1, 'Hidden_units_0': 640, 'Dropout_layer_0': 0.2, 'learning_rate': 0.0001}. Best is trial 1 with value: 0.7423121929168701.\n",
      "[I 2024-06-07 18:29:10,743] Trial 15 finished with value: 0.8474699854850769 and parameters: {'batch_size': 32, 'num_layers': 2, 'Hidden_units_0': 896, 'Dropout_layer_0': 0.2, 'Hidden_units_1': 1024, 'Dropout_layer_1': 0.5, 'learning_rate': 0.0001}. Best is trial 1 with value: 0.7423121929168701.\n",
      "[I 2024-06-07 18:29:19,489] Trial 16 finished with value: 0.7610636949539185 and parameters: {'batch_size': 32, 'num_layers': 1, 'Hidden_units_0': 512, 'Dropout_layer_0': 0.2, 'learning_rate': 0.0001}. Best is trial 1 with value: 0.7423121929168701.\n",
      "[I 2024-06-07 18:29:26,141] Trial 17 finished with value: 0.7549183368682861 and parameters: {'batch_size': 64, 'num_layers': 2, 'Hidden_units_0': 896, 'Dropout_layer_0': 0.4, 'Hidden_units_1': 256, 'Dropout_layer_1': 0.2, 'learning_rate': 0.0001}. Best is trial 1 with value: 0.7423121929168701.\n",
      "[I 2024-06-07 18:29:33,533] Trial 18 finished with value: 0.7643397450447083 and parameters: {'batch_size': 32, 'num_layers': 1, 'Hidden_units_0': 896, 'Dropout_layer_0': 0.2, 'learning_rate': 0.0001}. Best is trial 1 with value: 0.7423121929168701.\n",
      "[I 2024-06-07 18:29:38,038] Trial 19 finished with value: 0.9639453291893005 and parameters: {'batch_size': 32, 'num_layers': 2, 'Hidden_units_0': 512, 'Dropout_layer_0': 0.5, 'Hidden_units_1': 896, 'Dropout_layer_1': 0.4, 'learning_rate': 0.001}. Best is trial 1 with value: 0.7423121929168701.\n",
      "[I 2024-06-07 18:29:45,909] Trial 20 finished with value: 0.7596254348754883 and parameters: {'batch_size': 64, 'num_layers': 1, 'Hidden_units_0': 640, 'Dropout_layer_0': 0.30000000000000004, 'learning_rate': 0.0001}. Best is trial 1 with value: 0.7423121929168701.\n",
      "[I 2024-06-07 18:29:54,157] Trial 21 finished with value: 0.7624505758285522 and parameters: {'batch_size': 32, 'num_layers': 1, 'Hidden_units_0': 768, 'Dropout_layer_0': 0.30000000000000004, 'learning_rate': 0.0001}. Best is trial 1 with value: 0.7423121929168701.\n",
      "[I 2024-06-07 18:30:03,009] Trial 22 finished with value: 0.7581527233123779 and parameters: {'batch_size': 32, 'num_layers': 1, 'Hidden_units_0': 768, 'Dropout_layer_0': 0.4, 'learning_rate': 0.0001}. Best is trial 1 with value: 0.7423121929168701.\n",
      "[I 2024-06-07 18:30:10,735] Trial 23 finished with value: 0.7531025409698486 and parameters: {'batch_size': 32, 'num_layers': 1, 'Hidden_units_0': 896, 'Dropout_layer_0': 0.2, 'learning_rate': 0.0001}. Best is trial 1 with value: 0.7423121929168701.\n",
      "[I 2024-06-07 18:30:18,148] Trial 24 finished with value: 0.7946819067001343 and parameters: {'batch_size': 32, 'num_layers': 2, 'Hidden_units_0': 896, 'Dropout_layer_0': 0.2, 'Hidden_units_1': 512, 'Dropout_layer_1': 0.2, 'learning_rate': 0.0001}. Best is trial 1 with value: 0.7423121929168701.\n",
      "[I 2024-06-07 18:30:26,475] Trial 25 finished with value: 0.777843177318573 and parameters: {'batch_size': 32, 'num_layers': 1, 'Hidden_units_0': 896, 'Dropout_layer_0': 0.2, 'learning_rate': 0.0001}. Best is trial 1 with value: 0.7423121929168701.\n",
      "[I 2024-06-07 18:30:33,446] Trial 26 finished with value: 0.7789855599403381 and parameters: {'batch_size': 32, 'num_layers': 2, 'Hidden_units_0': 640, 'Dropout_layer_0': 0.2, 'Hidden_units_1': 384, 'Dropout_layer_1': 0.1, 'learning_rate': 0.0001}. Best is trial 1 with value: 0.7423121929168701.\n",
      "[I 2024-06-07 18:30:41,548] Trial 27 finished with value: 0.7340922951698303 and parameters: {'batch_size': 32, 'num_layers': 1, 'Hidden_units_0': 768, 'Dropout_layer_0': 0.30000000000000004, 'learning_rate': 0.0001}. Best is trial 27 with value: 0.7340922951698303.\n",
      "[I 2024-06-07 18:30:45,987] Trial 28 finished with value: 0.9468470215797424 and parameters: {'batch_size': 64, 'num_layers': 3, 'Hidden_units_0': 512, 'Dropout_layer_0': 0.4, 'Hidden_units_1': 896, 'Dropout_layer_1': 0.5, 'Hidden_units_2': 256, 'Dropout_layer_2': 0.1, 'learning_rate': 0.001}. Best is trial 27 with value: 0.7340922951698303.\n",
      "[I 2024-06-07 18:30:48,493] Trial 29 finished with value: 3.0551648139953613 and parameters: {'batch_size': 32, 'num_layers': 1, 'Hidden_units_0': 640, 'Dropout_layer_0': 0.30000000000000004, 'learning_rate': 0.01}. Best is trial 27 with value: 0.7340922951698303.\n",
      "[I 2024-06-07 18:30:55,906] Trial 30 finished with value: 0.7617473602294922 and parameters: {'batch_size': 128, 'num_layers': 2, 'Hidden_units_0': 768, 'Dropout_layer_0': 0.30000000000000004, 'Hidden_units_1': 768, 'Dropout_layer_1': 0.30000000000000004, 'learning_rate': 0.0001}. Best is trial 27 with value: 0.7340922951698303.\n",
      "[I 2024-06-07 18:31:04,177] Trial 31 finished with value: 0.7587107419967651 and parameters: {'batch_size': 32, 'num_layers': 1, 'Hidden_units_0': 896, 'Dropout_layer_0': 0.2, 'learning_rate': 0.0001}. Best is trial 27 with value: 0.7340922951698303.\n",
      "[I 2024-06-07 18:31:12,751] Trial 32 finished with value: 0.7466904520988464 and parameters: {'batch_size': 32, 'num_layers': 1, 'Hidden_units_0': 768, 'Dropout_layer_0': 0.4, 'learning_rate': 0.0001}. Best is trial 27 with value: 0.7340922951698303.\n",
      "[I 2024-06-07 18:31:21,753] Trial 33 finished with value: 0.7624885439872742 and parameters: {'batch_size': 32, 'num_layers': 1, 'Hidden_units_0': 640, 'Dropout_layer_0': 0.4, 'learning_rate': 0.0001}. Best is trial 27 with value: 0.7340922951698303.\n",
      "[I 2024-06-07 18:31:24,534] Trial 34 finished with value: 4.504194736480713 and parameters: {'batch_size': 32, 'num_layers': 1, 'Hidden_units_0': 768, 'Dropout_layer_0': 0.4, 'learning_rate': 0.01}. Best is trial 27 with value: 0.7340922951698303.\n",
      "[I 2024-06-07 18:31:33,814] Trial 35 finished with value: 0.7764226198196411 and parameters: {'batch_size': 32, 'num_layers': 2, 'Hidden_units_0': 768, 'Dropout_layer_0': 0.4, 'Hidden_units_1': 512, 'Dropout_layer_1': 0.4, 'learning_rate': 0.0001}. Best is trial 27 with value: 0.7340922951698303.\n",
      "[I 2024-06-07 18:31:36,407] Trial 36 finished with value: 3.682812452316284 and parameters: {'batch_size': 32, 'num_layers': 1, 'Hidden_units_0': 640, 'Dropout_layer_0': 0.5, 'learning_rate': 0.01}. Best is trial 27 with value: 0.7340922951698303.\n",
      "[I 2024-06-07 18:31:44,500] Trial 37 finished with value: 0.7939763069152832 and parameters: {'batch_size': 128, 'num_layers': 2, 'Hidden_units_0': 768, 'Dropout_layer_0': 0.5, 'Hidden_units_1': 896, 'Dropout_layer_1': 0.2, 'learning_rate': 0.0001}. Best is trial 27 with value: 0.7340922951698303.\n",
      "[I 2024-06-07 18:31:53,905] Trial 38 finished with value: 1.2718889713287354 and parameters: {'batch_size': 32, 'num_layers': 4, 'Hidden_units_0': 512, 'Dropout_layer_0': 0.30000000000000004, 'Hidden_units_1': 384, 'Dropout_layer_1': 0.1, 'Hidden_units_2': 1024, 'Dropout_layer_2': 0.1, 'Hidden_units_3': 1024, 'Dropout_layer_3': 0.30000000000000004, 'learning_rate': 0.001}. Best is trial 27 with value: 0.7340922951698303.\n",
      "[I 2024-06-07 18:32:03,058] Trial 39 finished with value: 0.7634053230285645 and parameters: {'batch_size': 64, 'num_layers': 3, 'Hidden_units_0': 768, 'Dropout_layer_0': 0.1, 'Hidden_units_1': 640, 'Dropout_layer_1': 0.5, 'Hidden_units_2': 256, 'Dropout_layer_2': 0.2, 'learning_rate': 0.0001}. Best is trial 27 with value: 0.7340922951698303.\n",
      "[I 2024-06-07 18:32:05,219] Trial 40 finished with value: 1.5541657209396362 and parameters: {'batch_size': 128, 'num_layers': 1, 'Hidden_units_0': 1024, 'Dropout_layer_0': 0.5, 'learning_rate': 0.01}. Best is trial 27 with value: 0.7340922951698303.\n",
      "[I 2024-06-07 18:32:12,157] Trial 41 finished with value: 0.7380763292312622 and parameters: {'batch_size': 32, 'num_layers': 1, 'Hidden_units_0': 896, 'Dropout_layer_0': 0.1, 'learning_rate': 0.0001}. Best is trial 27 with value: 0.7340922951698303.\n",
      "[I 2024-06-07 18:32:19,735] Trial 42 finished with value: 0.7545524835586548 and parameters: {'batch_size': 32, 'num_layers': 1, 'Hidden_units_0': 896, 'Dropout_layer_0': 0.1, 'learning_rate': 0.0001}. Best is trial 27 with value: 0.7340922951698303.\n",
      "[I 2024-06-07 18:32:26,636] Trial 43 finished with value: 0.7568604946136475 and parameters: {'batch_size': 32, 'num_layers': 1, 'Hidden_units_0': 1024, 'Dropout_layer_0': 0.1, 'learning_rate': 0.0001}. Best is trial 27 with value: 0.7340922951698303.\n",
      "[I 2024-06-07 18:32:33,452] Trial 44 finished with value: 0.7800068259239197 and parameters: {'batch_size': 32, 'num_layers': 1, 'Hidden_units_0': 768, 'Dropout_layer_0': 0.1, 'learning_rate': 0.0001}. Best is trial 27 with value: 0.7340922951698303.\n",
      "[I 2024-06-07 18:32:41,213] Trial 45 finished with value: 0.7392348647117615 and parameters: {'batch_size': 32, 'num_layers': 1, 'Hidden_units_0': 896, 'Dropout_layer_0': 0.30000000000000004, 'learning_rate': 0.0001}. Best is trial 27 with value: 0.7340922951698303.\n",
      "[I 2024-06-07 18:32:44,301] Trial 46 finished with value: 0.8434986472129822 and parameters: {'batch_size': 32, 'num_layers': 1, 'Hidden_units_0': 1024, 'Dropout_layer_0': 0.30000000000000004, 'learning_rate': 0.001}. Best is trial 27 with value: 0.7340922951698303.\n",
      "[I 2024-06-07 18:32:55,710] Trial 47 finished with value: 0.7980318069458008 and parameters: {'batch_size': 32, 'num_layers': 2, 'Hidden_units_0': 896, 'Dropout_layer_0': 0.4, 'Hidden_units_1': 1024, 'Dropout_layer_1': 0.30000000000000004, 'learning_rate': 0.0001}. Best is trial 27 with value: 0.7340922951698303.\n",
      "[I 2024-06-07 18:33:03,531] Trial 48 finished with value: 0.7294769883155823 and parameters: {'batch_size': 128, 'num_layers': 1, 'Hidden_units_0': 896, 'Dropout_layer_0': 0.30000000000000004, 'learning_rate': 0.0001}. Best is trial 48 with value: 0.7294769883155823.\n",
      "[I 2024-06-07 18:33:12,027] Trial 49 finished with value: 0.7600704431533813 and parameters: {'batch_size': 128, 'num_layers': 1, 'Hidden_units_0': 1024, 'Dropout_layer_0': 0.30000000000000004, 'learning_rate': 0.0001}. Best is trial 48 with value: 0.7294769883155823.\n"
     ]
    },
    {
     "name": "stdout",
     "output_type": "stream",
     "text": [
      "Number of finished trials:  50\n",
      "Best trial:\n",
      "  Value:  0.7294769883155823\n",
      "  Params: \n",
      "    batch_size: 128\n",
      "    num_layers: 1\n",
      "    Hidden_units_0: 896\n",
      "    Dropout_layer_0: 0.30000000000000004\n",
      "    learning_rate: 0.0001\n"
     ]
    }
   ],
   "source": [
    "study = optuna.create_study(direction='minimize')\n",
    "study.optimize(objective, n_trials=50)\n",
    "\n",
    "print(\"Number of finished trials: \", len(study.trials))\n",
    "print(\"Best trial:\")\n",
    "trial = study.best_trial\n",
    "\n",
    "print(\"  Value: \", trial.value)\n",
    "print(\"  Params: \")\n",
    "for key, value in trial.params.items():\n",
    "    print(\"    {}: {}\".format(key, value))"
   ]
  },
  {
   "cell_type": "markdown",
   "metadata": {},
   "source": [
    "### Train the best model from optuna results\n",
    "* Compile the MLP model using the optimal hyperparameters\n",
    "* Use Early stopping callback to avoid overfitting"
   ]
  },
  {
   "cell_type": "code",
   "execution_count": 36,
   "metadata": {
    "execution": {
     "iopub.execute_input": "2024-06-07T18:34:24.052549Z",
     "iopub.status.busy": "2024-06-07T18:34:24.052080Z",
     "iopub.status.idle": "2024-06-07T18:34:34.625519Z",
     "shell.execute_reply": "2024-06-07T18:34:34.624225Z",
     "shell.execute_reply.started": "2024-06-07T18:34:24.052515Z"
    },
    "scrolled": false
   },
   "outputs": [
    {
     "data": {
      "text/html": [
       "<pre style=\"white-space:pre;overflow-x:auto;line-height:normal;font-family:Menlo,'DejaVu Sans Mono',consolas,'Courier New',monospace\"><span style=\"font-weight: bold\">Model: \"sequential_101\"</span>\n",
       "</pre>\n"
      ],
      "text/plain": [
       "\u001b[1mModel: \"sequential_101\"\u001b[0m\n"
      ]
     },
     "metadata": {},
     "output_type": "display_data"
    },
    {
     "data": {
      "text/html": [
       "<pre style=\"white-space:pre;overflow-x:auto;line-height:normal;font-family:Menlo,'DejaVu Sans Mono',consolas,'Courier New',monospace\">┏━━━━━━━━━━━━━━━━━━━━━━━━━━━━━━━━━┳━━━━━━━━━━━━━━━━━━━━━━━━┳━━━━━━━━━━━━━━━┓\n",
       "┃<span style=\"font-weight: bold\"> Layer (type)                    </span>┃<span style=\"font-weight: bold\"> Output Shape           </span>┃<span style=\"font-weight: bold\">       Param # </span>┃\n",
       "┡━━━━━━━━━━━━━━━━━━━━━━━━━━━━━━━━━╇━━━━━━━━━━━━━━━━━━━━━━━━╇━━━━━━━━━━━━━━━┩\n",
       "│ dense_190 (<span style=\"color: #0087ff; text-decoration-color: #0087ff\">Dense</span>)               │ (<span style=\"color: #00d7ff; text-decoration-color: #00d7ff\">None</span>, <span style=\"color: #00af00; text-decoration-color: #00af00\">896</span>)            │       <span style=\"color: #00af00; text-decoration-color: #00af00\">127,232</span> │\n",
       "├─────────────────────────────────┼────────────────────────┼───────────────┤\n",
       "│ dropout_190 (<span style=\"color: #0087ff; text-decoration-color: #0087ff\">Dropout</span>)           │ (<span style=\"color: #00d7ff; text-decoration-color: #00d7ff\">None</span>, <span style=\"color: #00af00; text-decoration-color: #00af00\">896</span>)            │             <span style=\"color: #00af00; text-decoration-color: #00af00\">0</span> │\n",
       "├─────────────────────────────────┼────────────────────────┼───────────────┤\n",
       "│ Output (<span style=\"color: #0087ff; text-decoration-color: #0087ff\">Dense</span>)                  │ (<span style=\"color: #00d7ff; text-decoration-color: #00d7ff\">None</span>, <span style=\"color: #00af00; text-decoration-color: #00af00\">9</span>)              │         <span style=\"color: #00af00; text-decoration-color: #00af00\">8,073</span> │\n",
       "└─────────────────────────────────┴────────────────────────┴───────────────┘\n",
       "</pre>\n"
      ],
      "text/plain": [
       "┏━━━━━━━━━━━━━━━━━━━━━━━━━━━━━━━━━┳━━━━━━━━━━━━━━━━━━━━━━━━┳━━━━━━━━━━━━━━━┓\n",
       "┃\u001b[1m \u001b[0m\u001b[1mLayer (type)                   \u001b[0m\u001b[1m \u001b[0m┃\u001b[1m \u001b[0m\u001b[1mOutput Shape          \u001b[0m\u001b[1m \u001b[0m┃\u001b[1m \u001b[0m\u001b[1m      Param #\u001b[0m\u001b[1m \u001b[0m┃\n",
       "┡━━━━━━━━━━━━━━━━━━━━━━━━━━━━━━━━━╇━━━━━━━━━━━━━━━━━━━━━━━━╇━━━━━━━━━━━━━━━┩\n",
       "│ dense_190 (\u001b[38;5;33mDense\u001b[0m)               │ (\u001b[38;5;45mNone\u001b[0m, \u001b[38;5;34m896\u001b[0m)            │       \u001b[38;5;34m127,232\u001b[0m │\n",
       "├─────────────────────────────────┼────────────────────────┼───────────────┤\n",
       "│ dropout_190 (\u001b[38;5;33mDropout\u001b[0m)           │ (\u001b[38;5;45mNone\u001b[0m, \u001b[38;5;34m896\u001b[0m)            │             \u001b[38;5;34m0\u001b[0m │\n",
       "├─────────────────────────────────┼────────────────────────┼───────────────┤\n",
       "│ Output (\u001b[38;5;33mDense\u001b[0m)                  │ (\u001b[38;5;45mNone\u001b[0m, \u001b[38;5;34m9\u001b[0m)              │         \u001b[38;5;34m8,073\u001b[0m │\n",
       "└─────────────────────────────────┴────────────────────────┴───────────────┘\n"
      ]
     },
     "metadata": {},
     "output_type": "display_data"
    },
    {
     "data": {
      "text/html": [
       "<pre style=\"white-space:pre;overflow-x:auto;line-height:normal;font-family:Menlo,'DejaVu Sans Mono',consolas,'Courier New',monospace\"><span style=\"font-weight: bold\"> Total params: </span><span style=\"color: #00af00; text-decoration-color: #00af00\">135,305</span> (528.54 KB)\n",
       "</pre>\n"
      ],
      "text/plain": [
       "\u001b[1m Total params: \u001b[0m\u001b[38;5;34m135,305\u001b[0m (528.54 KB)\n"
      ]
     },
     "metadata": {},
     "output_type": "display_data"
    },
    {
     "data": {
      "text/html": [
       "<pre style=\"white-space:pre;overflow-x:auto;line-height:normal;font-family:Menlo,'DejaVu Sans Mono',consolas,'Courier New',monospace\"><span style=\"font-weight: bold\"> Trainable params: </span><span style=\"color: #00af00; text-decoration-color: #00af00\">135,305</span> (528.54 KB)\n",
       "</pre>\n"
      ],
      "text/plain": [
       "\u001b[1m Trainable params: \u001b[0m\u001b[38;5;34m135,305\u001b[0m (528.54 KB)\n"
      ]
     },
     "metadata": {},
     "output_type": "display_data"
    },
    {
     "data": {
      "text/html": [
       "<pre style=\"white-space:pre;overflow-x:auto;line-height:normal;font-family:Menlo,'DejaVu Sans Mono',consolas,'Courier New',monospace\"><span style=\"font-weight: bold\"> Non-trainable params: </span><span style=\"color: #00af00; text-decoration-color: #00af00\">0</span> (0.00 B)\n",
       "</pre>\n"
      ],
      "text/plain": [
       "\u001b[1m Non-trainable params: \u001b[0m\u001b[38;5;34m0\u001b[0m (0.00 B)\n"
      ]
     },
     "metadata": {},
     "output_type": "display_data"
    },
    {
     "name": "stdout",
     "output_type": "stream",
     "text": [
      "None\n",
      "Epoch 1/100\n",
      "\u001b[1m51/51\u001b[0m \u001b[32m━━━━━━━━━━━━━━━━━━━━\u001b[0m\u001b[37m\u001b[0m \u001b[1m1s\u001b[0m 9ms/step - categorical_accuracy: 0.2026 - loss: 2.1485 - val_categorical_accuracy: 0.5604 - val_loss: 1.6070\n",
      "Epoch 2/100\n",
      "\u001b[1m51/51\u001b[0m \u001b[32m━━━━━━━━━━━━━━━━━━━━\u001b[0m\u001b[37m\u001b[0m \u001b[1m0s\u001b[0m 4ms/step - categorical_accuracy: 0.5219 - loss: 1.5471 - val_categorical_accuracy: 0.6593 - val_loss: 1.2844\n",
      "Epoch 3/100\n",
      "\u001b[1m51/51\u001b[0m \u001b[32m━━━━━━━━━━━━━━━━━━━━\u001b[0m\u001b[37m\u001b[0m \u001b[1m0s\u001b[0m 5ms/step - categorical_accuracy: 0.6230 - loss: 1.2611 - val_categorical_accuracy: 0.6813 - val_loss: 1.1038\n",
      "Epoch 4/100\n",
      "\u001b[1m51/51\u001b[0m \u001b[32m━━━━━━━━━━━━━━━━━━━━\u001b[0m\u001b[37m\u001b[0m \u001b[1m0s\u001b[0m 5ms/step - categorical_accuracy: 0.6835 - loss: 1.0576 - val_categorical_accuracy: 0.7198 - val_loss: 0.9973\n",
      "Epoch 5/100\n",
      "\u001b[1m51/51\u001b[0m \u001b[32m━━━━━━━━━━━━━━━━━━━━\u001b[0m\u001b[37m\u001b[0m \u001b[1m0s\u001b[0m 5ms/step - categorical_accuracy: 0.7383 - loss: 0.9182 - val_categorical_accuracy: 0.7308 - val_loss: 0.9257\n",
      "Epoch 6/100\n",
      "\u001b[1m51/51\u001b[0m \u001b[32m━━━━━━━━━━━━━━━━━━━━\u001b[0m\u001b[37m\u001b[0m \u001b[1m0s\u001b[0m 4ms/step - categorical_accuracy: 0.7479 - loss: 0.8148 - val_categorical_accuracy: 0.7473 - val_loss: 0.8780\n",
      "Epoch 7/100\n",
      "\u001b[1m51/51\u001b[0m \u001b[32m━━━━━━━━━━━━━━━━━━━━\u001b[0m\u001b[37m\u001b[0m \u001b[1m0s\u001b[0m 5ms/step - categorical_accuracy: 0.7840 - loss: 0.7489 - val_categorical_accuracy: 0.7473 - val_loss: 0.8437\n",
      "Epoch 8/100\n",
      "\u001b[1m51/51\u001b[0m \u001b[32m━━━━━━━━━━━━━━━━━━━━\u001b[0m\u001b[37m\u001b[0m \u001b[1m0s\u001b[0m 4ms/step - categorical_accuracy: 0.8136 - loss: 0.6989 - val_categorical_accuracy: 0.7637 - val_loss: 0.8174\n",
      "Epoch 9/100\n",
      "\u001b[1m51/51\u001b[0m \u001b[32m━━━━━━━━━━━━━━━━━━━━\u001b[0m\u001b[37m\u001b[0m \u001b[1m0s\u001b[0m 4ms/step - categorical_accuracy: 0.8154 - loss: 0.6467 - val_categorical_accuracy: 0.7637 - val_loss: 0.7991\n",
      "Epoch 10/100\n",
      "\u001b[1m51/51\u001b[0m \u001b[32m━━━━━━━━━━━━━━━━━━━━\u001b[0m\u001b[37m\u001b[0m \u001b[1m0s\u001b[0m 4ms/step - categorical_accuracy: 0.8243 - loss: 0.6162 - val_categorical_accuracy: 0.7582 - val_loss: 0.7818\n",
      "Epoch 11/100\n",
      "\u001b[1m51/51\u001b[0m \u001b[32m━━━━━━━━━━━━━━━━━━━━\u001b[0m\u001b[37m\u001b[0m \u001b[1m0s\u001b[0m 4ms/step - categorical_accuracy: 0.8319 - loss: 0.5918 - val_categorical_accuracy: 0.7473 - val_loss: 0.7711\n",
      "Epoch 12/100\n",
      "\u001b[1m51/51\u001b[0m \u001b[32m━━━━━━━━━━━━━━━━━━━━\u001b[0m\u001b[37m\u001b[0m \u001b[1m0s\u001b[0m 5ms/step - categorical_accuracy: 0.8234 - loss: 0.5984 - val_categorical_accuracy: 0.7527 - val_loss: 0.7613\n",
      "Epoch 13/100\n",
      "\u001b[1m51/51\u001b[0m \u001b[32m━━━━━━━━━━━━━━━━━━━━\u001b[0m\u001b[37m\u001b[0m \u001b[1m0s\u001b[0m 5ms/step - categorical_accuracy: 0.8336 - loss: 0.5535 - val_categorical_accuracy: 0.7527 - val_loss: 0.7542\n",
      "Epoch 14/100\n",
      "\u001b[1m51/51\u001b[0m \u001b[32m━━━━━━━━━━━━━━━━━━━━\u001b[0m\u001b[37m\u001b[0m \u001b[1m0s\u001b[0m 5ms/step - categorical_accuracy: 0.8517 - loss: 0.5157 - val_categorical_accuracy: 0.7418 - val_loss: 0.7490\n",
      "Epoch 15/100\n",
      "\u001b[1m51/51\u001b[0m \u001b[32m━━━━━━━━━━━━━━━━━━━━\u001b[0m\u001b[37m\u001b[0m \u001b[1m0s\u001b[0m 4ms/step - categorical_accuracy: 0.8519 - loss: 0.5194 - val_categorical_accuracy: 0.7473 - val_loss: 0.7439\n",
      "Epoch 16/100\n",
      "\u001b[1m51/51\u001b[0m \u001b[32m━━━━━━━━━━━━━━━━━━━━\u001b[0m\u001b[37m\u001b[0m \u001b[1m0s\u001b[0m 5ms/step - categorical_accuracy: 0.8500 - loss: 0.5115 - val_categorical_accuracy: 0.7473 - val_loss: 0.7417\n",
      "Epoch 17/100\n",
      "\u001b[1m51/51\u001b[0m \u001b[32m━━━━━━━━━━━━━━━━━━━━\u001b[0m\u001b[37m\u001b[0m \u001b[1m0s\u001b[0m 5ms/step - categorical_accuracy: 0.8550 - loss: 0.4803 - val_categorical_accuracy: 0.7473 - val_loss: 0.7387\n",
      "Epoch 18/100\n",
      "\u001b[1m51/51\u001b[0m \u001b[32m━━━━━━━━━━━━━━━━━━━━\u001b[0m\u001b[37m\u001b[0m \u001b[1m0s\u001b[0m 5ms/step - categorical_accuracy: 0.8559 - loss: 0.4772 - val_categorical_accuracy: 0.7527 - val_loss: 0.7355\n",
      "Epoch 19/100\n",
      "\u001b[1m51/51\u001b[0m \u001b[32m━━━━━━━━━━━━━━━━━━━━\u001b[0m\u001b[37m\u001b[0m \u001b[1m0s\u001b[0m 5ms/step - categorical_accuracy: 0.8672 - loss: 0.4595 - val_categorical_accuracy: 0.7473 - val_loss: 0.7357\n",
      "Epoch 20/100\n",
      "\u001b[1m51/51\u001b[0m \u001b[32m━━━━━━━━━━━━━━━━━━━━\u001b[0m\u001b[37m\u001b[0m \u001b[1m0s\u001b[0m 4ms/step - categorical_accuracy: 0.8618 - loss: 0.4400 - val_categorical_accuracy: 0.7473 - val_loss: 0.7324\n",
      "Epoch 21/100\n",
      "\u001b[1m51/51\u001b[0m \u001b[32m━━━━━━━━━━━━━━━━━━━━\u001b[0m\u001b[37m\u001b[0m \u001b[1m0s\u001b[0m 4ms/step - categorical_accuracy: 0.8716 - loss: 0.4199 - val_categorical_accuracy: 0.7473 - val_loss: 0.7299\n",
      "Epoch 22/100\n",
      "\u001b[1m51/51\u001b[0m \u001b[32m━━━━━━━━━━━━━━━━━━━━\u001b[0m\u001b[37m\u001b[0m \u001b[1m0s\u001b[0m 5ms/step - categorical_accuracy: 0.8815 - loss: 0.4134 - val_categorical_accuracy: 0.7473 - val_loss: 0.7302\n",
      "Epoch 23/100\n",
      "\u001b[1m51/51\u001b[0m \u001b[32m━━━━━━━━━━━━━━━━━━━━\u001b[0m\u001b[37m\u001b[0m \u001b[1m0s\u001b[0m 4ms/step - categorical_accuracy: 0.8885 - loss: 0.3943 - val_categorical_accuracy: 0.7473 - val_loss: 0.7303\n",
      "Epoch 24/100\n",
      "\u001b[1m51/51\u001b[0m \u001b[32m━━━━━━━━━━━━━━━━━━━━\u001b[0m\u001b[37m\u001b[0m \u001b[1m0s\u001b[0m 5ms/step - categorical_accuracy: 0.8793 - loss: 0.3863 - val_categorical_accuracy: 0.7473 - val_loss: 0.7305\n",
      "Epoch 25/100\n",
      "\u001b[1m51/51\u001b[0m \u001b[32m━━━━━━━━━━━━━━━━━━━━\u001b[0m\u001b[37m\u001b[0m \u001b[1m0s\u001b[0m 4ms/step - categorical_accuracy: 0.8910 - loss: 0.3623 - val_categorical_accuracy: 0.7473 - val_loss: 0.7302\n",
      "Epoch 26/100\n",
      "\u001b[1m51/51\u001b[0m \u001b[32m━━━━━━━━━━━━━━━━━━━━\u001b[0m\u001b[37m\u001b[0m \u001b[1m0s\u001b[0m 4ms/step - categorical_accuracy: 0.8891 - loss: 0.3764 - val_categorical_accuracy: 0.7473 - val_loss: 0.7299\n",
      "Epoch 27/100\n",
      "\u001b[1m51/51\u001b[0m \u001b[32m━━━━━━━━━━━━━━━━━━━━\u001b[0m\u001b[37m\u001b[0m \u001b[1m0s\u001b[0m 5ms/step - categorical_accuracy: 0.8940 - loss: 0.3704 - val_categorical_accuracy: 0.7473 - val_loss: 0.7309\n",
      "Epoch 28/100\n",
      "\u001b[1m51/51\u001b[0m \u001b[32m━━━━━━━━━━━━━━━━━━━━\u001b[0m\u001b[37m\u001b[0m \u001b[1m0s\u001b[0m 5ms/step - categorical_accuracy: 0.8984 - loss: 0.3510 - val_categorical_accuracy: 0.7473 - val_loss: 0.7307\n",
      "Epoch 29/100\n",
      "\u001b[1m51/51\u001b[0m \u001b[32m━━━━━━━━━━━━━━━━━━━━\u001b[0m\u001b[37m\u001b[0m \u001b[1m0s\u001b[0m 5ms/step - categorical_accuracy: 0.8892 - loss: 0.3465 - val_categorical_accuracy: 0.7473 - val_loss: 0.7337\n",
      "Epoch 30/100\n",
      "\u001b[1m51/51\u001b[0m \u001b[32m━━━━━━━━━━━━━━━━━━━━\u001b[0m\u001b[37m\u001b[0m \u001b[1m0s\u001b[0m 5ms/step - categorical_accuracy: 0.8802 - loss: 0.3653 - val_categorical_accuracy: 0.7473 - val_loss: 0.7325\n",
      "Epoch 31/100\n",
      "\u001b[1m51/51\u001b[0m \u001b[32m━━━━━━━━━━━━━━━━━━━━\u001b[0m\u001b[37m\u001b[0m \u001b[1m0s\u001b[0m 5ms/step - categorical_accuracy: 0.9023 - loss: 0.3493 - val_categorical_accuracy: 0.7418 - val_loss: 0.7343\n",
      "Epoch 32/100\n",
      "\u001b[1m51/51\u001b[0m \u001b[32m━━━━━━━━━━━━━━━━━━━━\u001b[0m\u001b[37m\u001b[0m \u001b[1m0s\u001b[0m 5ms/step - categorical_accuracy: 0.9005 - loss: 0.3278 - val_categorical_accuracy: 0.7418 - val_loss: 0.7384\n",
      "Epoch 33/100\n",
      "\u001b[1m51/51\u001b[0m \u001b[32m━━━━━━━━━━━━━━━━━━━━\u001b[0m\u001b[37m\u001b[0m \u001b[1m0s\u001b[0m 4ms/step - categorical_accuracy: 0.9136 - loss: 0.3117 - val_categorical_accuracy: 0.7418 - val_loss: 0.7403\n",
      "Epoch 34/100\n",
      "\u001b[1m51/51\u001b[0m \u001b[32m━━━━━━━━━━━━━━━━━━━━\u001b[0m\u001b[37m\u001b[0m \u001b[1m0s\u001b[0m 4ms/step - categorical_accuracy: 0.9281 - loss: 0.2724 - val_categorical_accuracy: 0.7418 - val_loss: 0.7402\n",
      "Epoch 35/100\n",
      "\u001b[1m51/51\u001b[0m \u001b[32m━━━━━━━━━━━━━━━━━━━━\u001b[0m\u001b[37m\u001b[0m \u001b[1m0s\u001b[0m 4ms/step - categorical_accuracy: 0.9095 - loss: 0.3039 - val_categorical_accuracy: 0.7418 - val_loss: 0.7427\n",
      "Epoch 36/100\n",
      "\u001b[1m51/51\u001b[0m \u001b[32m━━━━━━━━━━━━━━━━━━━━\u001b[0m\u001b[37m\u001b[0m \u001b[1m0s\u001b[0m 5ms/step - categorical_accuracy: 0.9230 - loss: 0.2842 - val_categorical_accuracy: 0.7308 - val_loss: 0.7445\n",
      "Epoch 36: early stopping\n",
      "Restoring model weights from the end of the best epoch: 26.\n"
     ]
    }
   ],
   "source": [
    "model_deepwalk = build_MLP_model_tuning(study.best_trial)\n",
    "\n",
    "print(model_deepwalk.summary())\n",
    "\n",
    "early_stopping = EarlyStopping(monitor='val_loss', patience=10, verbose=2, restore_best_weights=True)\n",
    "\n",
    "history_deepwalk = model_deepwalk.fit(X_scaled_train, \n",
    "                        Y_train_1hot,\n",
    "                        validation_data=(X_scaled_val, Y_val_1hot),\n",
    "                        #validation_split=0.1,\n",
    "                        batch_size=32,\n",
    "                        epochs=100,\n",
    "                        shuffle=True,\n",
    "                        callbacks=[early_stopping])"
   ]
  },
  {
   "cell_type": "markdown",
   "metadata": {},
   "source": [
    "### Evaluate performance"
   ]
  },
  {
   "cell_type": "code",
   "execution_count": 37,
   "metadata": {
    "execution": {
     "iopub.execute_input": "2024-06-07T18:34:40.345433Z",
     "iopub.status.busy": "2024-06-07T18:34:40.342024Z",
     "iopub.status.idle": "2024-06-07T18:34:41.063088Z",
     "shell.execute_reply": "2024-06-07T18:34:41.061840Z",
     "shell.execute_reply.started": "2024-06-07T18:34:40.345375Z"
    }
   },
   "outputs": [
    {
     "data": {
      "image/png": "[encoded data removed]",
      "text/plain": [
       "<Figure size 640x480 with 1 Axes>"
      ]
     },
     "metadata": {},
     "output_type": "display_data"
    },
    {
     "data": {
      "image/png": "[encoded data removed]",
      "text/plain": [
       "<Figure size 640x480 with 1 Axes>"
      ]
     },
     "metadata": {},
     "output_type": "display_data"
    }
   ],
   "source": [
    "%matplotlib inline\n",
    "import matplotlib.pyplot as plt\n",
    "\n",
    "\n",
    "# summarize history for accuracy\n",
    "plt.plot(history_deepwalk.history['categorical_accuracy'])\n",
    "plt.plot(history_deepwalk.history['val_categorical_accuracy'])\n",
    "plt.title('model accuracy')\n",
    "plt.ylabel('accuracy')\n",
    "plt.xlabel('epoch')\n",
    "plt.legend(['train', 'val'], loc='upper left')\n",
    "plt.show()\n",
    "\n",
    "# summarize history for loss\n",
    "plt.plot(history_deepwalk.history['loss'])\n",
    "plt.plot(history_deepwalk.history['val_loss'])\n",
    "plt.title('model loss')\n",
    "plt.ylabel('loss')\n",
    "plt.xlabel('epoch')\n",
    "plt.legend(['train', 'val'], loc='upper right')\n",
    "plt.show()"
   ]
  },
  {
   "cell_type": "code",
   "execution_count": 38,
   "metadata": {
    "execution": {
     "iopub.execute_input": "2024-06-07T18:34:45.919360Z",
     "iopub.status.busy": "2024-06-07T18:34:45.918919Z",
     "iopub.status.idle": "2024-06-07T18:34:46.080124Z",
     "shell.execute_reply": "2024-06-07T18:34:46.078863Z",
     "shell.execute_reply.started": "2024-06-07T18:34:45.919327Z"
    }
   },
   "outputs": [
    {
     "name": "stdout",
     "output_type": "stream",
     "text": [
      "\u001b[1m6/6\u001b[0m \u001b[32m━━━━━━━━━━━━━━━━━━━━\u001b[0m\u001b[37m\u001b[0m \u001b[1m0s\u001b[0m 8ms/step \n",
      "              precision    recall  f1-score   support\n",
      "\n",
      "           0       1.00      0.62      0.77         8\n",
      "           1       1.00      0.86      0.92        14\n",
      "           2       0.68      0.63      0.65        27\n",
      "           3       0.75      0.85      0.80        55\n",
      "           4       0.88      0.64      0.74        11\n",
      "           5       0.57      0.61      0.59        28\n",
      "           6       0.80      0.40      0.53        10\n",
      "           7       0.82      0.90      0.86        10\n",
      "           8       0.78      0.95      0.86        19\n",
      "\n",
      "    accuracy                           0.75       182\n",
      "   macro avg       0.81      0.72      0.75       182\n",
      "weighted avg       0.76      0.75      0.74       182\n",
      "\n"
     ]
    }
   ],
   "source": [
    "y_pred_deep = np.argmax(model_deepwalk.predict(X_scaled_val), -1)\n",
    "print(classification_report(np.array(Y_val).astype(int), y_pred_deep))"
   ]
  },
  {
   "cell_type": "markdown",
   "metadata": {},
   "source": [
    "* The graph-based MLP outperforms the previous MLP model, showcasing improved precision, recall, and F1-scores across classes, resulting in an overall accuracy boost to 75%. \n",
    "* However, there are signs of overfitting, indicated by a notable difference between the model's performance on the training data (training categorical accuracy of 92.30% with a loss of 0.2842) and its performance on unseen validation data (categorical accuracy of 73.08% and a higher loss of 0.7445)"
   ]
  },
  {
   "cell_type": "markdown",
   "metadata": {},
   "source": [
    "### Use the outputs as input vectors\n",
    "* Again, we are going to utilize this output produced for the train and test data as input to a Graph NN.\n",
    "* Store the predicted probabilities by domain to extract the information later."
   ]
  },
  {
   "cell_type": "code",
   "execution_count": 39,
   "metadata": {
    "execution": {
     "iopub.execute_input": "2024-06-07T18:35:31.954083Z",
     "iopub.status.busy": "2024-06-07T18:35:31.953310Z",
     "iopub.status.idle": "2024-06-07T18:35:32.263405Z",
     "shell.execute_reply": "2024-06-07T18:35:32.262060Z",
     "shell.execute_reply.started": "2024-06-07T18:35:31.954048Z"
    }
   },
   "outputs": [
    {
     "name": "stdout",
     "output_type": "stream",
     "text": [
      "\u001b[1m57/57\u001b[0m \u001b[32m━━━━━━━━━━━━━━━━━━━━\u001b[0m\u001b[37m\u001b[0m \u001b[1m0s\u001b[0m 2ms/step\n",
      "\u001b[1m19/19\u001b[0m \u001b[32m━━━━━━━━━━━━━━━━━━━━\u001b[0m\u001b[37m\u001b[0m \u001b[1m0s\u001b[0m 2ms/step \n"
     ]
    }
   ],
   "source": [
    "y_probs_graph_train = model_deepwalk.predict(scaler.transform(X_train_new))\n",
    "y_probs_graph_test = model_deepwalk.predict(scaler.transform(X_test_new))"
   ]
  },
  {
   "cell_type": "code",
   "execution_count": 2,
   "metadata": {
    "execution": {
     "iopub.execute_input": "2024-06-07T18:37:04.968768Z",
     "iopub.status.busy": "2024-06-07T18:37:04.967647Z",
     "iopub.status.idle": "2024-06-07T18:37:04.976038Z",
     "shell.execute_reply": "2024-06-07T18:37:04.974643Z",
     "shell.execute_reply.started": "2024-06-07T18:37:04.968719Z"
    }
   },
   "outputs": [],
   "source": [
    "# create a dictionary to get later the correct values\n",
    "train_domain_prob = dict(zip(train_domains, y_probs_graph_train))\n",
    "test_domain_prob = dict(zip(test_domains, y_probs_graph_test))\n",
    "domain_prob = {**train_domain_prob, **test_domain_prob}"
   ]
  },
  {
   "cell_type": "markdown",
   "metadata": {},
   "source": [
    "## Graph Neural Networks\n",
    "\n",
    "* In order to validate if the results can be further enhanced, we are going to test a Graph Neural Network. \n",
    "* We build a two-layer Graph Convolutional Network (GCN). Each layer computes new node representations by aggregating neighbor information. \n",
    "* The node data features/representations are derived from Word2Vec model trained with generated random walks, enriched further by incorporating probability distributions (the output of the previous model for train,val, and test nodes, and random for the rest), aiming to capture both local and global graph structure along with the contextual information.\n",
    "* Graph convolution takes the weighted sum of the node features of a given node  and its neighbors (the gray nodes within the blue circle) to calculate updated node representation values of the node. Through this convolution operation, the node representation captures localized graph information."
   ]
  },
  {
   "cell_type": "code",
   "execution_count": 43,
   "metadata": {
    "execution": {
     "iopub.execute_input": "2024-06-07T18:38:14.693258Z",
     "iopub.status.busy": "2024-06-07T18:38:14.692822Z",
     "iopub.status.idle": "2024-06-07T18:38:14.703680Z",
     "shell.execute_reply": "2024-06-07T18:38:14.702211Z",
     "shell.execute_reply.started": "2024-06-07T18:38:14.693223Z"
    }
   },
   "outputs": [],
   "source": [
    "class GNN(nn.Module):\n",
    "    def __init__(self, n_feat, hidden_dim1, hidden_dim2, n_class, dropout):\n",
    "        super().__init__()\n",
    "        self.mp1 = GCNConv(n_feat, hidden_dim1)\n",
    "        self.mp2 = GCNConv(hidden_dim1, hidden_dim2)\n",
    "\n",
    "        self.fc = nn.Linear(hidden_dim2, n_class)\n",
    "        self.dropout = nn.Dropout(dropout)\n",
    "        self.relu = nn.ReLU()\n",
    "\n",
    "    def forward(self, data):\n",
    "        x, edge_index = data.x, data.edge_index\n",
    "\n",
    "        # First GCN layer\n",
    "        x = self.mp1(x, edge_index)\n",
    "        x = self.relu(x)\n",
    "        x = self.dropout(x)\n",
    "\n",
    "        # Second GCN layer\n",
    "        x = self.mp2(x, edge_index)\n",
    "        x = self.relu(x)\n",
    "        x = self.dropout(x)\n",
    "\n",
    "        # Fully connected layer\n",
    "        x = self.fc(x)\n",
    "\n",
    "        # Log softmax for output probabilities\n",
    "        return F.log_softmax(x, dim=1)"
   ]
  },
  {
   "cell_type": "code",
   "execution_count": 44,
   "metadata": {
    "execution": {
     "iopub.execute_input": "2024-06-07T18:38:24.102726Z",
     "iopub.status.busy": "2024-06-07T18:38:24.102297Z",
     "iopub.status.idle": "2024-06-07T18:38:55.797922Z",
     "shell.execute_reply": "2024-06-07T18:38:55.796896Z",
     "shell.execute_reply.started": "2024-06-07T18:38:24.102695Z"
    }
   },
   "outputs": [],
   "source": [
    "# Create tensor that stores edges\n",
    "edge_index = torch.zeros(2, G.number_of_edges(), dtype=torch.long)\n",
    "for i,edge in enumerate(G.edges()):\n",
    "    edge_index[0,i] = node_to_idx[edge[0]]\n",
    "    edge_index[1,i] = node_to_idx[edge[1]]\n",
    "\n",
    "# Initialize the features of the nodes as random vectors of dimension 16\n",
    "feature_dim = 128+9\n",
    "\n",
    "# List to hold tensors\n",
    "tensor_list = []\n",
    "# Loop over the nodes to create tensors and add them to the list\n",
    "for i, node in enumerate(G.nodes()):\n",
    "    w2vec_tensor = torch.tensor(w2vec.wv[node]).reshape(1, 128)\n",
    "    #par_cluster = torch.tensor([partition[node]]).reshape(1, 1)\n",
    "    \n",
    "    if node in train_domains + test_domains:\n",
    "        domain_prob_tensor = torch.tensor(domain_prob[node]).reshape(1, 9) # get the probabilities distribution\n",
    "        tensor = torch.cat((domain_prob_tensor, w2vec_tensor), dim=1) # Concatenate the tensors along dimension 1\n",
    "    else:\n",
    "        domain_prob_tensor = torch.rand(1, 9) # tensor with random numbers drawn from a uniform distribution on the interval\n",
    "        tensor = torch.cat((domain_prob_tensor, w2vec_tensor), dim=1)\n",
    "                \n",
    "    # Append the tensor to the list\n",
    "    tensor_list.append(tensor)\n",
    "\n",
    "# Concatenate all tensors in the list to form a matrix\n",
    "x = torch.cat(tensor_list, dim=0)\n",
    "\n",
    "# Yields indices to split data into training and test sets\n",
    "idx_train = [node_to_idx[node] for node in train_domains]\n",
    "idx_test = [node_to_idx[node] for node in test_domains]"
   ]
  },
  {
   "cell_type": "code",
   "execution_count": 45,
   "metadata": {
    "execution": {
     "iopub.execute_input": "2024-06-07T18:41:17.303580Z",
     "iopub.status.busy": "2024-06-07T18:41:17.303185Z",
     "iopub.status.idle": "2024-06-07T18:41:17.325496Z",
     "shell.execute_reply": "2024-06-07T18:41:17.324260Z",
     "shell.execute_reply.started": "2024-06-07T18:41:17.303551Z"
    }
   },
   "outputs": [],
   "source": [
    "# Initialize device\n",
    "device = torch.device(\"cuda\") if torch.cuda.is_available() else torch.device(\"cpu\")\n",
    "\n",
    "# Hyperparameters\n",
    "epochs = 150\n",
    "n_hidden_1 = 64\n",
    "n_hidden_2 = 128\n",
    "lr = 0.01\n",
    "dropout_rate = 0.4\n",
    "n_class = 9\n",
    "\n",
    "# Create data object\n",
    "data = Data(x=x, edge_index=edge_index).to(device)\n",
    "\n",
    "# Split training set into training and validation sets\n",
    "idx_train, idx_val, Y_train, Y_val = train_test_split(idx_train, np.array(y_train).astype(int),\n",
    "                                                      stratify=np.array(y_train).astype(int), test_size=0.1, random_state=66)\n",
    "\n",
    "# Transform the numpy matrices/vectors to torch tensors\n",
    "Y_train = torch.LongTensor(Y_train).to(device)\n",
    "Y_val = torch.LongTensor(Y_val).to(device)\n",
    "idx_train = torch.LongTensor(idx_train).to(device)\n",
    "idx_val = torch.LongTensor(idx_val).to(device)\n",
    "idx_test = torch.LongTensor(idx_test).to(device)\n"
   ]
  },
  {
   "cell_type": "markdown",
   "metadata": {},
   "source": [
    "### GCN Training\n",
    "* Train the model using the whole graph G\n",
    "* Provide the indices for train and validation nodes."
   ]
  },
  {
   "cell_type": "code",
   "execution_count": 46,
   "metadata": {
    "execution": {
     "iopub.execute_input": "2024-06-07T18:41:25.045855Z",
     "iopub.status.busy": "2024-06-07T18:41:25.045435Z",
     "iopub.status.idle": "2024-06-07T18:55:38.190574Z",
     "shell.execute_reply": "2024-06-07T18:55:38.189080Z",
     "shell.execute_reply.started": "2024-06-07T18:41:25.045822Z"
    }
   },
   "outputs": [
    {
     "name": "stdout",
     "output_type": "stream",
     "text": [
      "Epoch: 010, Train Loss: 1.7874802, Val Loss: 1.7478139\n",
      "Epoch: 020, Train Loss: 1.4105903, Val Loss: 1.3341889\n",
      "Epoch: 030, Train Loss: 1.1933875, Val Loss: 1.1847739\n",
      "Epoch: 040, Train Loss: 1.1066774, Val Loss: 1.1399361\n",
      "Epoch: 050, Train Loss: 1.0329919, Val Loss: 1.1036841\n",
      "Epoch: 060, Train Loss: 0.9837345, Val Loss: 1.0561961\n",
      "Epoch: 070, Train Loss: 0.9319724, Val Loss: 1.0334556\n",
      "Epoch: 080, Train Loss: 0.8918031, Val Loss: 1.0049448\n",
      "Epoch: 090, Train Loss: 0.8936018, Val Loss: 0.9884835\n",
      "Epoch: 100, Train Loss: 0.8589173, Val Loss: 0.9575278\n",
      "Epoch: 110, Train Loss: 0.8226768, Val Loss: 0.9450393\n",
      "Epoch: 120, Train Loss: 0.8111351, Val Loss: 0.9392893\n",
      "Epoch: 130, Train Loss: 0.7575815, Val Loss: 0.9218789\n",
      "Epoch: 140, Train Loss: 0.7495112, Val Loss: 0.9398527\n",
      "Epoch: 150, Train Loss: 0.7550061, Val Loss: 0.9162852\n"
     ]
    }
   ],
   "source": [
    "# Creates the model and specifies the optimizer\n",
    "model_GNN = GNN(feature_dim, n_hidden_1, n_hidden_2, n_class, dropout_rate).to(device)\n",
    "optimizer = optim.Adam(model_GNN.parameters(), lr=lr)\n",
    "loss_function = nn.CrossEntropyLoss()\n",
    "\n",
    "# Train the model\n",
    "best_val_loss = 100\n",
    "\n",
    "train_losses = []\n",
    "val_losses = []\n",
    "\n",
    "for epoch in range(1, epochs+1):\n",
    "    model_GNN.train()    \n",
    "    optimizer.zero_grad()\n",
    "    output = model_GNN(data)\n",
    "    loss = loss_function(output[idx_train], Y_train)\n",
    "    loss.backward()\n",
    "    optimizer.step()\n",
    "\n",
    "    model_GNN.eval()\n",
    "    loss_val = 0\n",
    "    output = model_GNN(data)\n",
    "    loss_val = loss_function(output[idx_val], Y_val)\n",
    "\n",
    "    # Remember best validation loss and save checkpoint\n",
    "    is_best = loss_val <= best_val_loss\n",
    "    best_val_loss = min(loss_val, best_val_loss)\n",
    "    if is_best:\n",
    "        torch.save({\n",
    "            'state_dict': model_GNN.state_dict(),\n",
    "            'optimizer' : optimizer.state_dict(),\n",
    "        }, 'model_best.pth.tar')\n",
    "    \n",
    "\n",
    "    if epoch%10==0:\n",
    "        print('Epoch: {:03d}, Train Loss: {:.7f}, Val Loss: {:.7f}'.format(epoch, loss, loss_val))\n",
    "    \n",
    "    train_losses.append(loss.detach().numpy())\n",
    "    val_losses.append(loss_val.detach().numpy())\n"
   ]
  },
  {
   "cell_type": "markdown",
   "metadata": {},
   "source": [
    "### Evaluate performance"
   ]
  },
  {
   "cell_type": "code",
   "execution_count": 47,
   "metadata": {
    "execution": {
     "iopub.execute_input": "2024-06-07T18:55:50.265354Z",
     "iopub.status.busy": "2024-06-07T18:55:50.264865Z",
     "iopub.status.idle": "2024-06-07T18:55:50.611760Z",
     "shell.execute_reply": "2024-06-07T18:55:50.610672Z",
     "shell.execute_reply.started": "2024-06-07T18:55:50.265320Z"
    }
   },
   "outputs": [
    {
     "data": {
      "image/png": "[encoded data removed]",
      "text/plain": [
       "<Figure size 640x480 with 1 Axes>"
      ]
     },
     "metadata": {},
     "output_type": "display_data"
    }
   ],
   "source": [
    "%matplotlib inline\n",
    "import matplotlib.pyplot as plt\n",
    "\n",
    "# summarize history for loss\n",
    "plt.plot(train_losses)\n",
    "plt.plot(val_losses)\n",
    "plt.title('model loss')\n",
    "plt.ylabel('loss')\n",
    "plt.xlabel('epoch')\n",
    "plt.legend(['train', 'val'], loc='upper right')\n",
    "plt.show()"
   ]
  },
  {
   "cell_type": "code",
   "execution_count": 48,
   "metadata": {
    "execution": {
     "iopub.execute_input": "2024-06-07T18:55:58.946219Z",
     "iopub.status.busy": "2024-06-07T18:55:58.945815Z",
     "iopub.status.idle": "2024-06-07T18:56:01.004531Z",
     "shell.execute_reply": "2024-06-07T18:56:01.003118Z",
     "shell.execute_reply.started": "2024-06-07T18:55:58.946181Z"
    }
   },
   "outputs": [],
   "source": [
    "# Make predictions\n",
    "model_GNN.eval()\n",
    "checkpoint = torch.load('model_best.pth.tar')\n",
    "model_GNN.load_state_dict(checkpoint['state_dict'])\n",
    "output = model_GNN(data)\n",
    "y_pred_gnn_val = torch.exp(output[idx_val]).detach().cpu().numpy()"
   ]
  },
  {
   "cell_type": "code",
   "execution_count": 49,
   "metadata": {
    "execution": {
     "iopub.execute_input": "2024-06-07T18:56:02.011682Z",
     "iopub.status.busy": "2024-06-07T18:56:02.011240Z",
     "iopub.status.idle": "2024-06-07T18:56:02.028573Z",
     "shell.execute_reply": "2024-06-07T18:56:02.027122Z",
     "shell.execute_reply.started": "2024-06-07T18:56:02.011640Z"
    }
   },
   "outputs": [
    {
     "name": "stdout",
     "output_type": "stream",
     "text": [
      "              precision    recall  f1-score   support\n",
      "\n",
      "           0       0.57      0.50      0.53         8\n",
      "           1       0.83      0.71      0.77        14\n",
      "           2       0.73      0.70      0.72        27\n",
      "           3       0.77      0.85      0.81        55\n",
      "           4       0.82      0.82      0.82        11\n",
      "           5       0.54      0.50      0.52        28\n",
      "           6       0.44      0.40      0.42        10\n",
      "           7       0.75      0.90      0.82        10\n",
      "           8       0.78      0.74      0.76        19\n",
      "\n",
      "    accuracy                           0.71       182\n",
      "   macro avg       0.69      0.68      0.68       182\n",
      "weighted avg       0.71      0.71      0.71       182\n",
      "\n"
     ]
    }
   ],
   "source": [
    "y_pred_gnn_val = np.argmax(y_pred_gnn_val, -1)\n",
    "print(classification_report(np.array(Y_val).astype(int), y_pred_gnn_val))"
   ]
  },
  {
   "cell_type": "code",
   "execution_count": 50,
   "metadata": {
    "execution": {
     "iopub.execute_input": "2024-06-07T18:56:07.873547Z",
     "iopub.status.busy": "2024-06-07T18:56:07.873147Z",
     "iopub.status.idle": "2024-06-07T18:56:09.879859Z",
     "shell.execute_reply": "2024-06-07T18:56:09.878700Z",
     "shell.execute_reply.started": "2024-06-07T18:56:07.873517Z"
    }
   },
   "outputs": [],
   "source": [
    "# Make predictions\n",
    "model_GNN.eval()\n",
    "checkpoint = torch.load('model_best.pth.tar')\n",
    "model_GNN.load_state_dict(checkpoint['state_dict'])\n",
    "output = model_GNN(data)\n",
    "y_pred_gnn = torch.exp(output[idx_test]).detach().cpu().numpy()"
   ]
  },
  {
   "cell_type": "markdown",
   "metadata": {},
   "source": [
    "* The GCN model achieved a train loss of 0.7550 and a validation loss of 0.9163, indicating lower overfitting compared to previous models. Despite a slightly lower validation accuracy of 71%, this reduced overfitting resulted in better generalization, leading to improved performance on the unseen test data submitted to Kaggle."
   ]
  },
  {
   "cell_type": "markdown",
   "metadata": {},
   "source": [
    "### Evaluation & Submission\n",
    "* We extract the predictions and submit them to competition in kaggle"
   ]
  },
  {
   "cell_type": "code",
   "execution_count": 51,
   "metadata": {
    "execution": {
     "iopub.execute_input": "2024-06-07T18:56:13.024318Z",
     "iopub.status.busy": "2024-06-07T18:56:13.023913Z",
     "iopub.status.idle": "2024-06-07T18:56:13.049887Z",
     "shell.execute_reply": "2024-06-07T18:56:13.048153Z",
     "shell.execute_reply.started": "2024-06-07T18:56:13.024290Z"
    }
   },
   "outputs": [],
   "source": [
    "# Write predictions to a file\n",
    "with open('sample_submission.csv', 'w') as csvfile:\n",
    "    writer = csv.writer(csvfile, delimiter=',')\n",
    "    lst = list()\n",
    "    for i in range(9):\n",
    "        lst.append('class_'+str(i))\n",
    "    lst.insert(0, \"domain_name\")\n",
    "    writer.writerow(lst)\n",
    "    for i,test_host in enumerate(test_domains):\n",
    "        lst = y_pred_gnn[i,:].tolist()\n",
    "        lst.insert(0, test_host)\n",
    "        writer.writerow(lst)"
   ]
  },
  {
   "cell_type": "markdown",
   "metadata": {},
   "source": [
    "### Results "
   ]
  },
  {
   "cell_type": "markdown",
   "metadata": {},
   "source": [
    "* Our best model in Kaggle achieved a categorical loss of 0.9196 on the test domains, indicating some difficulty in generalizing well to unseen data compared to the training loss of 0.7550."
   ]
  }
 ],
 "metadata": {
  "kaggle": {
   "accelerator": "none",
   "dataSources": [
    {
     "datasetId": 5088593,
     "sourceId": 8522132,
     "sourceType": "datasetVersion"
    }
   ],
   "dockerImageVersionId": 30732,
   "isGpuEnabled": false,
   "isInternetEnabled": true,
   "language": "python",
   "sourceType": "notebook"
  },
  "kernelspec": {
   "display_name": "Python 3 (ipykernel)",
   "language": "python",
   "name": "python3"
  },
  "language_info": {
   "codemirror_mode": {
    "name": "ipython",
    "version": 3
   },
   "file_extension": ".py",
   "mimetype": "text/x-python",
   "name": "python",
   "nbconvert_exporter": "python",
   "pygments_lexer": "ipython3",
   "version": "3.9.13"
  }
 },
 "nbformat": 4,
 "nbformat_minor": 4
}
